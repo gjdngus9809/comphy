{
 "cells": [
  {
   "cell_type": "code",
   "execution_count": 1,
   "id": "agreed-latest",
   "metadata": {},
   "outputs": [],
   "source": [
    "import numpy as np\n",
    "import scipy as sp\n",
    "from ch2 import *"
   ]
  },
  {
   "cell_type": "code",
   "execution_count": 2,
   "id": "arctic-midnight",
   "metadata": {},
   "outputs": [],
   "source": [
    "A = np.array([[3.,-3.,3.],[-3.,5.,1.],[3.,1.,5.]])\n",
    "b = np.array([9.,-7.,12.])"
   ]
  },
  {
   "cell_type": "code",
   "execution_count": 3,
   "id": "confidential-header",
   "metadata": {},
   "outputs": [
    {
     "name": "stdout",
     "output_type": "stream",
     "text": [
      " [3.5        0.66666667 0.16666667] \n",
      " [3.5        0.66666667 0.16666667]\n"
     ]
    }
   ],
   "source": [
    "AA = A.copy()\n",
    "bb = b.copy()\n",
    "LU = LUdecomp(AA)   #LU decomposition\n",
    "x = LUsolve(LU,bb)  #solve, forward, reverse\n",
    "print('',x,'\\n', np.linalg.solve(A,b))"
   ]
  },
  {
   "cell_type": "code",
   "execution_count": 4,
   "id": "objective-composition",
   "metadata": {},
   "outputs": [
    {
     "data": {
      "text/plain": [
       "array([3.5       , 0.66666667, 0.16666667])"
      ]
     },
     "execution_count": 4,
     "metadata": {},
     "output_type": "execute_result"
    }
   ],
   "source": [
    "from scipy.linalg import lu\n",
    "AA = A.copy()\n",
    "bb = b.copy()\n",
    "lu, piv = sp.linalg.lu_factor(AA)\n",
    "x = sp.linalg.lu_solve((lu,piv),bb)\n",
    "x"
   ]
  },
  {
   "cell_type": "code",
   "execution_count": 7,
   "id": "embedded-fishing",
   "metadata": {},
   "outputs": [
    {
     "data": {
      "text/plain": [
       "array([-3.,  2.,  1.])"
      ]
     },
     "execution_count": 7,
     "metadata": {},
     "output_type": "execute_result"
    }
   ],
   "source": [
    "A = np.array([[4.,8.,20.],[8.,13.,16.],[20.,16.,-91.]], dtype = float )\n",
    "b = np.array([24.,18.,-119.])\n",
    "\n",
    "np.linalg.solve(A,b)"
   ]
  },
  {
   "cell_type": "code",
   "execution_count": 6,
   "id": "serial-album",
   "metadata": {},
   "outputs": [
    {
     "data": {
      "text/plain": [
       "array([-3.,  2.,  1.])"
      ]
     },
     "execution_count": 6,
     "metadata": {},
     "output_type": "execute_result"
    }
   ],
   "source": [
    "AA = A.copy()\n",
    "bb = b.copy()\n",
    "\n",
    "LU = LUdecomp(AA)\n",
    "x = LUsolve(LU,bb)\n",
    "x"
   ]
  },
  {
   "cell_type": "code",
   "execution_count": 14,
   "id": "residential-outdoors",
   "metadata": {},
   "outputs": [
    {
     "data": {
      "text/plain": [
       "array([[0.99659101, 0.30398067, 0.41286106],\n",
       "       [0.86935131, 0.39686096, 0.22396001],\n",
       "       [0.23949837, 0.33270421, 0.49668381]])"
      ]
     },
     "execution_count": 14,
     "metadata": {},
     "output_type": "execute_result"
    }
   ],
   "source": [
    "#sparse matrix\n",
    "\n",
    "np.random.rand(3,3)"
   ]
  },
  {
   "cell_type": "code",
   "execution_count": 15,
   "id": "pointed-dancing",
   "metadata": {},
   "outputs": [
    {
     "data": {
      "text/plain": [
       "array([0.90991901, 0.10993195, 0.43298645])"
      ]
     },
     "execution_count": 15,
     "metadata": {},
     "output_type": "execute_result"
    }
   ],
   "source": [
    "np.random.rand(3)"
   ]
  },
  {
   "cell_type": "code",
   "execution_count": 17,
   "id": "patient-adult",
   "metadata": {},
   "outputs": [
    {
     "data": {
      "text/plain": [
       "array([1., 1., 1.])"
      ]
     },
     "execution_count": 17,
     "metadata": {},
     "output_type": "execute_result"
    }
   ],
   "source": [
    "np.ones(3)"
   ]
  },
  {
   "cell_type": "code",
   "execution_count": 79,
   "id": "former-container",
   "metadata": {},
   "outputs": [],
   "source": [
    "n=5\n",
    "c = np.ones(n-1)\n",
    "e = 2*np.ones(n-1)\n",
    "d = 4*np.ones(n)\n",
    "b = np.ones(n)\n",
    "\n",
    "E = np.diag(e, k=+1)\n",
    "C = np.diag(c, k=-1)\n",
    "D = np.diag(d)"
   ]
  },
  {
   "cell_type": "code",
   "execution_count": 48,
   "id": "higher-privilege",
   "metadata": {},
   "outputs": [
    {
     "data": {
      "text/plain": [
       "array([[4., 2., 0., 0., 0.],\n",
       "       [1., 4., 2., 0., 0.],\n",
       "       [0., 1., 4., 2., 0.],\n",
       "       [0., 0., 1., 4., 2.],\n",
       "       [0., 0., 0., 1., 4.]])"
      ]
     },
     "execution_count": 48,
     "metadata": {},
     "output_type": "execute_result"
    }
   ],
   "source": [
    "A = C+D+E\n",
    "A"
   ]
  },
  {
   "cell_type": "code",
   "execution_count": 83,
   "id": "increased-polymer",
   "metadata": {},
   "outputs": [
    {
     "data": {
      "text/plain": [
       "array([0.19285714, 0.11428571, 0.175     , 0.09285714, 0.22678571])"
      ]
     },
     "execution_count": 83,
     "metadata": {},
     "output_type": "execute_result"
    }
   ],
   "source": [
    "dp = d.copy()\n",
    "cp = c.copy()\n",
    "\n",
    "y = np.zeros(n)\n",
    "x = np.zeros(n)\n",
    "\n",
    "\n",
    "for k in range(1,n): # 1, 2, 3, ... , n-1\n",
    "    lam = cp[k-1]/dp[k-1]\n",
    "    dp[k] = dp[k] - lam*e[k-1]\n",
    "    cp[k-1] = lam\n",
    "\n",
    "y[0] = b[0]\n",
    "for k in range(1,n):\n",
    "    y[k] = b[k] - cp[k-1]*y[k-1]\n",
    "\n",
    "x[n-1] = y[n-1]/dp[n-1]\n",
    "for k in range(n-2,-1,-1):\n",
    "    x[k] = (y[k] - e[k]*x[k+1])/dp[k]\n",
    "    \n",
    "x"
   ]
  },
  {
   "cell_type": "code",
   "execution_count": 84,
   "id": "ordered-belief",
   "metadata": {},
   "outputs": [
    {
     "data": {
      "text/plain": [
       "array([0.19285714, 0.11428571, 0.175     , 0.09285714, 0.22678571])"
      ]
     },
     "execution_count": 84,
     "metadata": {},
     "output_type": "execute_result"
    }
   ],
   "source": [
    "np.linalg.solve(A,b)"
   ]
  },
  {
   "cell_type": "code",
   "execution_count": 86,
   "id": "cultural-vintage",
   "metadata": {},
   "outputs": [
    {
     "data": {
      "text/plain": [
       "array([[4., 2., 0., 0., 0.],\n",
       "       [1., 4., 2., 0., 0.],\n",
       "       [0., 1., 4., 2., 0.],\n",
       "       [0., 0., 1., 4., 2.],\n",
       "       [0., 0., 0., 1., 4.]])"
      ]
     },
     "execution_count": 86,
     "metadata": {},
     "output_type": "execute_result"
    }
   ],
   "source": [
    "L = np.eye(n)+np.diag(cp,k = -1)\n",
    "U = np.diag(dp)+np.diag(e,k = 1)\n",
    "L@U"
   ]
  },
  {
   "cell_type": "code",
   "execution_count": 153,
   "id": "divided-spokesman",
   "metadata": {},
   "outputs": [
    {
     "data": {
      "text/plain": [
       "array([0.5, 0. , 0.5, 0. , 0.5])"
      ]
     },
     "execution_count": 153,
     "metadata": {},
     "output_type": "execute_result"
    }
   ],
   "source": [
    "n = 5\n",
    "c = np.ones(n-1)\n",
    "d = 2*np.ones(n)\n",
    "e = np.ones(n-1)\n",
    "b = np.ones(n)\n",
    "\n",
    "A = np.diag(c,k=-1) + np.diag(d) + np.diag(e,k=1)\n",
    "np.linalg.solve(A,b)"
   ]
  },
  {
   "cell_type": "code",
   "execution_count": 154,
   "id": "addressed-interaction",
   "metadata": {},
   "outputs": [],
   "source": [
    "#cc, dd, ee = LUdecomp3(c,d,e)\n",
    "#LUsolve3(cc,dd,ee,b)\n",
    "\n",
    "#L = np.eye(n) + np.diag(cc,k=-1)\n",
    "#U = np.diag(dd)+ np.diag(ee,k=1)"
   ]
  },
  {
   "cell_type": "code",
   "execution_count": 155,
   "id": "buried-attendance",
   "metadata": {},
   "outputs": [
    {
     "name": "stdout",
     "output_type": "stream",
     "text": [
      "[[2.         1.         0.         0.         0.        ]\n",
      " [0.5        1.5        1.         0.         0.        ]\n",
      " [0.         0.66666667 1.33333333 1.         0.        ]\n",
      " [0.         0.         0.75       1.25       1.        ]\n",
      " [0.         0.         0.         0.8        1.2       ]]\n"
     ]
    },
    {
     "data": {
      "text/plain": [
       "array([0.5, 0. , 0.5, 0. , 0.5])"
      ]
     },
     "execution_count": 155,
     "metadata": {},
     "output_type": "execute_result"
    }
   ],
   "source": [
    "AA = A.copy()\n",
    "for k in range(0,n-1):\n",
    "    for i in range(k+1,n):\n",
    "        if AA[i,k] != 0:\n",
    "            lam = AA[i,k]/AA[k,k]\n",
    "            AA[i,k+1:n] = AA[i,k+1:n] - lam*AA[k,k+1:n]\n",
    "            AA[i,k] = lam\n",
    "print(AA)\n",
    "\n",
    "x = np.zeros(n)\n",
    "y = np.zeros(n)\n",
    "\n",
    "for i in range(0,n):\n",
    "    y[i] = b[i] - np.dot(AA[i,0:i],y[0:i])\n",
    "for j in range(n-1,-1,-1):\n",
    "    x[j] = (y[j] - np.dot(AA[j,j+1:n],x[j+1:n]))/AA[j,j]\n",
    "x"
   ]
  },
  {
   "cell_type": "code",
   "execution_count": 156,
   "id": "after-sunday",
   "metadata": {},
   "outputs": [
    {
     "name": "stdout",
     "output_type": "stream",
     "text": [
      "[[2.         1.         0.         0.         0.        ]\n",
      " [0.5        1.5        1.         0.         0.        ]\n",
      " [0.         0.66666667 1.33333333 1.         0.        ]\n",
      " [0.         0.         0.75       1.25       1.        ]\n",
      " [0.         0.         0.         0.8        1.2       ]] \n",
      " [[2. 1. 0. 0. 0.]\n",
      " [1. 2. 1. 0. 0.]\n",
      " [0. 1. 2. 1. 0.]\n",
      " [0. 0. 1. 2. 1.]\n",
      " [0. 0. 0. 1. 2.]]\n"
     ]
    }
   ],
   "source": [
    "for k in range(1,n):\n",
    "    lam = c[k-1]/d[k-1]\n",
    "    d[k] = d[k] - lam*e[k-1]\n",
    "    c[k-1] = lam\n",
    "L = np.diag(c,k=-1) +np.eye(n)\n",
    "U = np.diag(d) + np.diag(e,k=1)\n",
    "print(L+U-np.eye(n),'\\n', L@U)"
   ]
  },
  {
   "cell_type": "code",
   "execution_count": 157,
   "id": "synthetic-gates",
   "metadata": {},
   "outputs": [
    {
     "data": {
      "text/plain": [
       "array([0.5, 0. , 0.5, 0. , 0.5])"
      ]
     },
     "execution_count": 157,
     "metadata": {},
     "output_type": "execute_result"
    }
   ],
   "source": [
    "y = np.zeros(n)\n",
    "x = np.zeros(n)\n",
    "\n",
    "y[0] = b[0]\n",
    "for k in range(1,n):\n",
    "    y[k] = b[k] - c[k-1]*y[k-1]\n",
    "x[n-1] = y[n-1]/d[n-1]\n",
    "for k in range(n-2,-1,-1):\n",
    "    x[k] = (y[k] - e[k]*x[k+1])/d[k]\n",
    "    \n",
    "x"
   ]
  },
  {
   "cell_type": "code",
   "execution_count": null,
   "id": "declared-address",
   "metadata": {},
   "outputs": [],
   "source": [
    "c = np.array([-2,-6,12,-6],dtype = float)\n",
    "d = np.array([2,5,16,39,14],dtype = float)"
   ]
  }
 ],
 "metadata": {
  "kernelspec": {
   "display_name": "Python 3",
   "language": "python",
   "name": "python3"
  },
  "language_info": {
   "codemirror_mode": {
    "name": "ipython",
    "version": 3
   },
   "file_extension": ".py",
   "mimetype": "text/x-python",
   "name": "python",
   "nbconvert_exporter": "python",
   "pygments_lexer": "ipython3",
   "version": "3.9.2"
  }
 },
 "nbformat": 4,
 "nbformat_minor": 5
}
