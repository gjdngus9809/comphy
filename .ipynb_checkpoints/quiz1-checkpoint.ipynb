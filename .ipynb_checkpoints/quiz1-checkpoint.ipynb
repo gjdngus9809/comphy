{
 "cells": [
  {
   "cell_type": "code",
   "execution_count": 1,
   "id": "judicial-matthew",
   "metadata": {},
   "outputs": [],
   "source": [
    "import numpy as np"
   ]
  },
  {
   "cell_type": "code",
   "execution_count": 2,
   "id": "dynamic-first",
   "metadata": {},
   "outputs": [
    {
     "data": {
      "text/plain": [
       "array([[2., 3., 0., ..., 0., 0., 0.],\n",
       "       [1., 2., 3., ..., 0., 0., 0.],\n",
       "       [0., 1., 2., ..., 0., 0., 0.],\n",
       "       ...,\n",
       "       [0., 0., 0., ..., 2., 3., 0.],\n",
       "       [0., 0., 0., ..., 1., 2., 3.],\n",
       "       [0., 0., 0., ..., 0., 1., 2.]])"
      ]
     },
     "execution_count": 2,
     "metadata": {},
     "output_type": "execute_result"
    }
   ],
   "source": [
    "#1\n",
    "A1 = np.zeros([1000,1000])\n",
    "for N in range(0,999):\n",
    "    A1[N,N]   = 2\n",
    "    A1[N,N+1] = 3\n",
    "    A1[N+1,N] = 1\n",
    "A1[999,999] = 2\n",
    "\n",
    "A1"
   ]
  },
  {
   "cell_type": "code",
   "execution_count": 3,
   "id": "smoking-reason",
   "metadata": {},
   "outputs": [
    {
     "name": "stdout",
     "output_type": "stream",
     "text": [
      "x =  8.0 \n",
      "y =  1.0\n"
     ]
    }
   ],
   "source": [
    "#2\n",
    "A2 = np.array([[1,2],\n",
    "              [1,-3]])\n",
    "b2 = np.array([10,5])\n",
    "\n",
    "sol2 = np.linalg.solve(A2,b2)\n",
    "print(\"x = \", sol2[0],\"\\ny = \", sol2[1])"
   ]
  },
  {
   "cell_type": "code",
   "execution_count": 4,
   "id": "brutal-symposium",
   "metadata": {},
   "outputs": [
    {
     "name": "stdout",
     "output_type": "stream",
     "text": [
      " s =  3.0666666666666664 \n",
      " p =  1.3333333333333335 \n",
      " d =  -0.7333333333333334 \n",
      " f =  0.6933333333333334 \n",
      " g =  0.72\n"
     ]
    }
   ],
   "source": [
    "#3\n",
    "# s+2p+ d       = 5\n",
    "#2s- p-3d       = 7\n",
    "#2s      - f-2g = 4\n",
    "#   2p   -2f+ g = 2\n",
    "#      2d- f+3g = 0\n",
    "\n",
    "A3 = np.array([[1,2,1,0,0],\n",
    "              [2,-1,-3,0,0],\n",
    "              [2,0,0,-1,-2],\n",
    "              [0,2,0,-2,1],\n",
    "              [0,0,2,-1,3]])\n",
    "b3 = np.array([5,7,4,2,0])\n",
    "sol3 = np.linalg.solve(A3,b3)\n",
    "print(' s = ',sol3[0],'\\n p = ',sol3[1],'\\n d = ',sol3[2],'\\n f = ',sol3[3],'\\n g = ',sol3[4]) "
   ]
  },
  {
   "cell_type": "code",
   "execution_count": 5,
   "id": "homeless-financing",
   "metadata": {},
   "outputs": [
    {
     "data": {
      "text/plain": [
       "array([0.93969262, 0.34202014])"
      ]
     },
     "execution_count": 5,
     "metadata": {},
     "output_type": "execute_result"
    }
   ],
   "source": [
    "#4\n",
    "theta = np.pi*20/180\n",
    "A4 = np.array([[np.cos(theta),-np.sin(theta)],\n",
    "              [np.sin(theta),np.cos(theta)]])\n",
    "ex = np.array([1,0])\n",
    "\n",
    "v = np.dot(A4,ex)\n",
    "v"
   ]
  },
  {
   "cell_type": "code",
   "execution_count": 8,
   "id": "parental-surveillance",
   "metadata": {},
   "outputs": [
    {
     "name": "stdout",
     "output_type": "stream",
     "text": [
      " v1 =  [0.40650407 0.23364486 0.        ] \n",
      " v2 =  [0.         0.46728972 0.        ] \n",
      " v3 =  [0.  0.  0.1]\n"
     ]
    }
   ],
   "source": [
    "#5\n",
    "a1 = np.array([2.46,0.00,0.00])\n",
    "a2 = np.array([-1.23,2.14,0.00])\n",
    "a3 = np.array([0.00,0.00,10.00])\n",
    "\n",
    "aa = np.array([a1,a2,a3])\n",
    "\n",
    "b1 = np.array([1,0,0])\n",
    "b2 = np.array([0,1,0])\n",
    "b3 = np.array([0,0,1])\n",
    "\n",
    "v1 = np.linalg.solve(aa,b1)\n",
    "v2 = np.linalg.solve(aa,b2)\n",
    "v3 = np.linalg.solve(aa,b3)\n",
    "\n",
    "print(' v1 = ',v1,'\\n v2 = ',v2,'\\n v3 = ',v3) "
   ]
  },
  {
   "cell_type": "code",
   "execution_count": 13,
   "id": "drawn-cause",
   "metadata": {},
   "outputs": [
    {
     "data": {
      "text/plain": [
       "array([[0.40650407, 0.23364486, 0.        ],\n",
       "       [0.        , 0.46728972, 0.        ],\n",
       "       [0.        , 0.        , 0.1       ]])"
      ]
     },
     "execution_count": 13,
     "metadata": {},
     "output_type": "execute_result"
    }
   ],
   "source": [
    "np.linalg.inv(aa).T"
   ]
  },
  {
   "cell_type": "code",
   "execution_count": null,
   "id": "simple-paper",
   "metadata": {},
   "outputs": [],
   "source": []
  }
 ],
 "metadata": {
  "kernelspec": {
   "display_name": "Python 3",
   "language": "python",
   "name": "python3"
  },
  "language_info": {
   "codemirror_mode": {
    "name": "ipython",
    "version": 3
   },
   "file_extension": ".py",
   "mimetype": "text/x-python",
   "name": "python",
   "nbconvert_exporter": "python",
   "pygments_lexer": "ipython3",
   "version": "3.9.2"
  }
 },
 "nbformat": 4,
 "nbformat_minor": 5
}
