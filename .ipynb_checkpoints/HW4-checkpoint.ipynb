{
 "cells": [
  {
   "cell_type": "code",
   "execution_count": 1,
   "id": "found-positive",
   "metadata": {},
   "outputs": [],
   "source": [
    "import numpy as np"
   ]
  },
  {
   "cell_type": "code",
   "execution_count": 2,
   "id": "whole-edinburgh",
   "metadata": {},
   "outputs": [
    {
     "data": {
      "text/plain": [
       "array([0.56, 0.72, 1.92, 2.24, 2.16])"
      ]
     },
     "execution_count": 2,
     "metadata": {},
     "output_type": "execute_result"
    }
   ],
   "source": [
    "#1\n",
    "\n",
    "A = np.array([[2,-1,0,0,0],\n",
    "              [-1,4,-1,0,0],\n",
    "              [0,-1,4,-1,-2],\n",
    "              [0,0,-1,2,-1],\n",
    "              [0,0,-2,-1,3]],dtype = float)\n",
    "k = 2.5\n",
    "b = np.ones(5)/k\n",
    "np.linalg.solve(A,b)"
   ]
  },
  {
   "cell_type": "code",
   "execution_count": 3,
   "id": "outer-coral",
   "metadata": {},
   "outputs": [],
   "source": [
    "def conjgrad(AA,x,bb,tol = 1.0e-9):\n",
    "    A = AA.copy()\n",
    "    b = bb.copy()\n",
    "    n = len(A)\n",
    "    r = b - A@b\n",
    "    s = r.copy()\n",
    "    for i in range(n**n):\n",
    "        alpha = s@r/(s@A@s)\n",
    "        x = x + alpha*s\n",
    "        r = b - A@x\n",
    "        if np.sqrt(r@r) < tol:\n",
    "            break\n",
    "        else:\n",
    "            beta = - r@A@s/(s@A@s)\n",
    "            s = r + beta*s\n",
    "    return x"
   ]
  },
  {
   "cell_type": "code",
   "execution_count": 4,
   "id": "maritime-closing",
   "metadata": {},
   "outputs": [
    {
     "data": {
      "text/plain": [
       "array([0.56, 0.72, 1.92, 2.24, 2.16])"
      ]
     },
     "execution_count": 4,
     "metadata": {},
     "output_type": "execute_result"
    }
   ],
   "source": [
    "x0 = np.ones(5)\n",
    "conjgrad(A,x0,b)"
   ]
  },
  {
   "cell_type": "code",
   "execution_count": 5,
   "id": "modified-lingerie",
   "metadata": {},
   "outputs": [],
   "source": [
    "#2\n",
    "\n",
    "def makemat(n):\n",
    "    d = 4*np.ones(n)\n",
    "    c = -np.ones(n-1)\n",
    "    e = -np.ones(n-1)\n",
    "    A = np.diag(d)+np.diag(c,k=-1)+np.diag(e,k=1)\n",
    "    b = 5*np.ones(n)\n",
    "    b[0] = 9\n",
    "    return [A,b]\n",
    "\n",
    "def gauss(AA,bb):\n",
    "    A = AA.copy()\n",
    "    b = bb.copy()\n",
    "    n = len(A)\n",
    "    x = np.zeros(n)\n",
    "    for k in range(0,n):\n",
    "        for i in range(k+1,n):\n",
    "            if A[i,k] != 0:\n",
    "                lam = A[i,k]/A[k,k]\n",
    "                A[i,:] = A[i,:] - lam*A[k,:]\n",
    "                b[i]   = b[i]   - lam*b[k]\n",
    "    for k in range(n-1,-1,-1):\n",
    "        x[k] = (b[k] - np.dot(A[k,k+1:n],x[k+1:n]))/A[k,k]\n",
    "    return x"
   ]
  },
  {
   "cell_type": "code",
   "execution_count": 6,
   "id": "freelance-stocks",
   "metadata": {},
   "outputs": [
    {
     "name": "stdout",
     "output_type": "stream",
     "text": [
      "CGM :  [2.90191936 2.60767745 2.52879042 2.50748425 2.50114659 2.4971021\n",
      " 2.48726181 2.45194513 2.3205187  1.83012968] , time :  0.0009965896606445312\n",
      "GE :  [2.90191936 2.60767745 2.52879042 2.50748425 2.50114659 2.4971021\n",
      " 2.48726181 2.45194513 2.3205187  1.83012968] , time :  0.0009987354278564453\n"
     ]
    }
   ],
   "source": [
    "#2-1\n",
    "\n",
    "from time import time\n",
    "\n",
    "n = 10\n",
    "mat1 = makemat(n)\n",
    "x = np.zeros(n)\n",
    "\n",
    "t1 = time()\n",
    "x1 = conjgrad(mat1[0],x,mat1[1])\n",
    "t2 = time()\n",
    "print(\"CGM : \",x1 , \", time : \", t2-t1)\n",
    "\n",
    "t1 = time()\n",
    "x2 = gauss(mat1[0],mat1[1])\n",
    "t2 = time()\n",
    "print(\"GE : \",x2 , \", time : \", t2-t1)"
   ]
  },
  {
   "cell_type": "code",
   "execution_count": 7,
   "id": "optical-surface",
   "metadata": {
    "scrolled": true
   },
   "outputs": [
    {
     "name": "stdout",
     "output_type": "stream",
     "text": [
      "CGM :  [2.90192379 2.60769515 2.52885683 ... 2.45190528 2.32050808 1.83012702] , time :  5.870301246643066\n",
      "GE :  [2.90192379 2.60769515 2.52885683 ... 2.45190528 2.32050808 1.83012702] , time :  21.486178636550903\n"
     ]
    }
   ],
   "source": [
    "#2-2\n",
    "\n",
    "n = 10000\n",
    "mat2 = makemat(n)\n",
    "x = np.zeros(n)\n",
    "\n",
    "t1 = time()\n",
    "x1 = conjgrad(mat2[0],x,mat2[1])\n",
    "t2 = time()\n",
    "print(\"CGM : \",x1 , \", time : \", t2-t1)\n",
    "\n",
    "t1 = time()\n",
    "x2 = gauss(mat2[0],mat2[1])\n",
    "t2 = time()\n",
    "print(\"GE : \",x2 , \", time : \", t2-t1)"
   ]
  },
  {
   "cell_type": "code",
   "execution_count": 8,
   "id": "approved-style",
   "metadata": {},
   "outputs": [
    {
     "data": {
      "text/plain": [
       "array([-1.,  0.,  1.])"
      ]
     },
     "execution_count": 8,
     "metadata": {},
     "output_type": "execute_result"
    }
   ],
   "source": [
    "#3\n",
    "\n",
    "A = np.array([[1,0,1],[0,1,0],[0,0,1]],dtype = float)\n",
    "b = np.array([0,0,1],dtype = float)\n",
    "x0 = np.array([-1,0,0],dtype = float) # starting position\n",
    "s0 = np.array([0,0,1],dtype = float) # search direction\n",
    "\n",
    "np.linalg.solve(A,b)"
   ]
  },
  {
   "cell_type": "code",
   "execution_count": 9,
   "id": "communist-newton",
   "metadata": {},
   "outputs": [
    {
     "name": "stdout",
     "output_type": "stream",
     "text": [
      "[-1.  0.  1.]\n",
      "[0. 0. 0.]\n"
     ]
    }
   ],
   "source": [
    "r0 = b - A@x0 # Residual\n",
    "\n",
    "'''\n",
    "To use conjugate gradient method, \n",
    "x needs to be written as a linear combination of search direction vectors, which are mutually conjugate vectors with respect to matrix A.\n",
    "( xn = x0 + a0*s0 + ... + a(n-1)*s(n-1) , sj@A@si = 0  when i != j)\n",
    "\n",
    "finding ai :\n",
    "suppose that r(i+1) = b - A@x(i+1) = 0\n",
    "=> b - A@x(i+1) = b - A@(xi + ai*si)     , ( since x(i+1) = xi + ai*si )\n",
    "                = ri        - ai*A@si = 0\n",
    "=> ai*A@si = ri , ai*(si@A@si) = si@ri\n",
    "=> ai = si@ri/(si@A@si)\n",
    "\n",
    "finding si :\n",
    "let s(i+1) = r(i+1) + bi*si\n",
    "=> since s(i+1)@A@si = 0,  r(i+1)@A@si + bi*si@A@si = 0\n",
    "=> bi = - r(i+1)@A@si/(si@A@si)\n",
    "\n",
    "as this process is repeated, the residual converge to 0 ( xn -> x ).\n",
    "'''\n",
    "\n",
    "a0 = s0@r0/(s0@A@s0) \n",
    "x1 = x0 + a0*s0\n",
    "print(x1)\n",
    "\n",
    "r1 = b - A@x1\n",
    "print(r1) # Residual = 0\n"
   ]
  },
  {
   "cell_type": "code",
   "execution_count": null,
   "id": "adjustable-teacher",
   "metadata": {},
   "outputs": [],
   "source": []
  }
 ],
 "metadata": {
  "kernelspec": {
   "display_name": "Python 3",
   "language": "python",
   "name": "python3"
  },
  "language_info": {
   "codemirror_mode": {
    "name": "ipython",
    "version": 3
   },
   "file_extension": ".py",
   "mimetype": "text/x-python",
   "name": "python",
   "nbconvert_exporter": "python",
   "pygments_lexer": "ipython3",
   "version": "3.9.2"
  }
 },
 "nbformat": 4,
 "nbformat_minor": 5
}
