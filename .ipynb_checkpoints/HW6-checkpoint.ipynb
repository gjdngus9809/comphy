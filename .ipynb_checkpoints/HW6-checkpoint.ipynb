{
 "cells": [
  {
   "cell_type": "code",
   "execution_count": 1,
   "id": "guilty-cancellation",
   "metadata": {},
   "outputs": [],
   "source": [
    "import numpy as np\n",
    "import matplotlib.pyplot as plt"
   ]
  },
  {
   "cell_type": "code",
   "execution_count": 2,
   "id": "pointed-solid",
   "metadata": {},
   "outputs": [],
   "source": [
    "#1.\n",
    "\n",
    "x = np.array([-1,1,3],dtype = float)\n",
    "y = np.array([17,-7,-15],dtype = float)\n",
    "\n",
    "#1-a)\n",
    "\n",
    "def F1(xx,x,y):\n",
    "    n = len(x)\n",
    "    P = 0\n",
    "    for i in range(0,n):\n",
    "        L = 1\n",
    "        for j in range(0,n):\n",
    "            if j != i:\n",
    "                L = L*(xx - x[j])/(x[i] - x[j])\n",
    "        P = P + y[i]*L\n",
    "    return P"
   ]
  },
  {
   "cell_type": "code",
   "execution_count": 3,
   "id": "hawaiian-doctrine",
   "metadata": {},
   "outputs": [
    {
     "data": {
      "text/plain": [
       "<matplotlib.collections.PathCollection at 0x140349e8220>"
      ]
     },
     "execution_count": 3,
     "metadata": {},
     "output_type": "execute_result"
    },
    {
     "data": {
      "image/png": "[encoded data removed]",
      "text/plain": [
       "<Figure size 432x288 with 1 Axes>"
      ]
     },
     "metadata": {
      "needs_background": "light"
     },
     "output_type": "display_data"
    }
   ],
   "source": [
    "xx = np.linspace(-1,3,50)\n",
    "plt.plot(xx,F1(xx,x,y),'g')\n",
    "plt.scatter(x,y)"
   ]
  },
  {
   "cell_type": "code",
   "execution_count": 4,
   "id": "missing-dryer",
   "metadata": {},
   "outputs": [],
   "source": [
    "#1-b)\n",
    "\n",
    "def F2(xx,x,y):\n",
    "    n = len(x)\n",
    "    a = y.copy()\n",
    "    for i in range(1,n):\n",
    "        a[i:n] = (a[i:n] - a[i-1])/(x[i:n] - x[i-1])\n",
    "    P = a[n-1]\n",
    "    for k in range(2,n+1):\n",
    "        P = a[n-k] + (xx - x[n-k])*P\n",
    "    return P\n"
   ]
  },
  {
   "cell_type": "code",
   "execution_count": 5,
   "id": "moderate-responsibility",
   "metadata": {},
   "outputs": [
    {
     "data": {
      "text/plain": [
       "<matplotlib.collections.PathCollection at 0x14034aee340>"
      ]
     },
     "execution_count": 5,
     "metadata": {},
     "output_type": "execute_result"
    },
    {
     "data": {
      "image/png": "[encoded data removed]",
      "text/plain": [
       "<Figure size 432x288 with 1 Axes>"
      ]
     },
     "metadata": {
      "needs_background": "light"
     },
     "output_type": "display_data"
    }
   ],
   "source": [
    "xx = np.linspace(-1,3,50)\n",
    "plt.plot(xx,F2(xx,x,y),'m')\n",
    "plt.scatter(x,y)"
   ]
  },
  {
   "cell_type": "code",
   "execution_count": 6,
   "id": "global-wildlife",
   "metadata": {},
   "outputs": [],
   "source": [
    "#2.\n",
    "\n",
    "x = np.array([0,1,2],dtype = float)\n",
    "y = np.array([0,2,1],dtype = float)\n",
    "\n",
    "#2-a)\n",
    "\n",
    "def LUdecomp3(c,d,e):\n",
    "    n = len(d)\n",
    "    for k in range(1,n):\n",
    "        lam = c[k-1]/d[k-1]\n",
    "        d[k] = d[k] - lam*e[k-1]\n",
    "        c[k-1] = lam\n",
    "    \n",
    "    return c,d,e\n",
    "\n",
    "def LUsolve3(c,d,e,b):\n",
    "    n = len(d)\n",
    "    for k in range(1,n):\n",
    "        b[k] = b[k] - c[k-1]*b[k-1]\n",
    "    \n",
    "    b[n-1] = b[n-1]/d[n-1]\n",
    "    for k in range(n-2,-1,-1):\n",
    "        b[k] = (b[k] - e[k]*b[k+1])/d[k]\n",
    "    \n",
    "    return b\n",
    "\n",
    "def curvatures(xData,yData):\n",
    "    n = len(xData) - 1\n",
    "    c = np.zeros(n)\n",
    "    d = np.ones(n+1)\n",
    "    e = np.zeros(n)\n",
    "    k = np.zeros(n+1)\n",
    "    c[0:n-1] = xData[0:n-1] - xData[1:n]\n",
    "    d[1:n] = 2.0*(xData[0:n-1] - xData[2:n+1])\n",
    "    e[1:n] = xData[1:n] - xData[2:n+1]\n",
    "    k[1:n] =6.0*(yData[0:n-1] - yData[1:n])/(xData[0:n-1] - xData[1:n]) \\\n",
    "            - 6.0*(yData[1:n] - yData[2:n+1])/(xData[1:n] - xData[2:n+1])\n",
    "    LUdecomp3(c,d,e)\n",
    "    LUsolve3(c,d,e,k)\n",
    "    \n",
    "    return k\n",
    "\n",
    "def evalSpline(xData,yData,k,x):\n",
    "    def findSegment(xData,x):\n",
    "        iLeft = 0\n",
    "        iRight = len(xData)- 1\n",
    "        while 1:\n",
    "            if (iRight-iLeft) <= 1: return iLeft\n",
    "            i = int((iLeft + iRight)/2)\n",
    "            if x < xData[i]: iRight = i\n",
    "            else: iLeft = i\n",
    "    i = findSegment(xData,x)\n",
    "    h = xData[i] - xData[i+1]\n",
    "    y = ((x - xData[i+1])**3/h - (x - xData[i+1])*h)*k[i]/6.0 \\\n",
    "            - ((x - xData[i])**3/h - (x - xData[i])*h)*k[i+1]/6.0   \\\n",
    "            + (yData[i]*(x - xData[i+1])                            \\\n",
    "            - yData[i+1]*(x - xData[i]))/h\n",
    "            \n",
    "    return y\n"
   ]
  },
  {
   "cell_type": "code",
   "execution_count": 7,
   "id": "posted-costume",
   "metadata": {},
   "outputs": [
    {
     "data": {
      "text/plain": [
       "<matplotlib.collections.PathCollection at 0x14034b74640>"
      ]
     },
     "execution_count": 7,
     "metadata": {},
     "output_type": "execute_result"
    },
    {
     "data": {
      "image/png": "[encoded data removed]",
      "text/plain": [
       "<Figure size 432x288 with 1 Axes>"
      ]
     },
     "metadata": {
      "needs_background": "light"
     },
     "output_type": "display_data"
    }
   ],
   "source": [
    "xx = np.linspace(0,2,50)\n",
    "yy = np.zeros(len(xx))\n",
    "k1 = curvatures(x,y)\n",
    "\n",
    "for i in range(len(xx)):\n",
    "    yy[i] = evalSpline(x,y,k1,xx[i])\n",
    "\n",
    "plt.plot(xx,yy,'g')\n",
    "plt.scatter(x,y)"
   ]
  },
  {
   "cell_type": "code",
   "execution_count": 8,
   "id": "indonesian-inspiration",
   "metadata": {},
   "outputs": [
    {
     "data": {
      "text/plain": [
       "array([ 1. , -4.5, -1. ])"
      ]
     },
     "execution_count": 8,
     "metadata": {},
     "output_type": "execute_result"
    }
   ],
   "source": [
    "#2-b)\n",
    "\n",
    "'''\n",
    "[  1,  0, ...       0,      0]\n",
    "[ c0, d1, ...       0,      0]\n",
    "\n",
    "            ...\n",
    "\n",
    "[  0,  0, ...  d(n-1), e(n-1)]\n",
    "[  0,  0, ...       0,      1]\n",
    "\n",
    "=> k0 = b0, kn = bn\n",
    "'''\n",
    "def alt_curvatures(xData,yData):\n",
    "    n = len(xData) - 1\n",
    "    c = np.zeros(n)\n",
    "    d = np.ones(n+1)\n",
    "    e = np.zeros(n)\n",
    "    k = np.zeros(n+1)\n",
    "    c[0:n-1] = xData[0:n-1] - xData[1:n]\n",
    "    d[1:n] = 2.0*(xData[0:n-1] - xData[2:n+1])\n",
    "    e[1:n] = xData[1:n] - xData[2:n+1]\n",
    "    k[1:n] =6.0*(yData[0:n-1] - yData[1:n])/(xData[0:n-1] - xData[1:n]) \\\n",
    "            - 6.0*(yData[1:n] - yData[2:n+1])/(xData[1:n] - xData[2:n+1])\n",
    "    k[0] = 1   # k0 =  1\n",
    "    k[n] = -1  # kn = -1\n",
    "    LUdecomp3(c,d,e)\n",
    "    LUsolve3(c,d,e,k)\n",
    "    \n",
    "    return k\n",
    "k2 = alt_curvatures(x,y)\n",
    "k2"
   ]
  },
  {
   "cell_type": "code",
   "execution_count": 9,
   "id": "wired-jimmy",
   "metadata": {},
   "outputs": [
    {
     "data": {
      "text/plain": [
       "<matplotlib.legend.Legend at 0x1402984da30>"
      ]
     },
     "execution_count": 9,
     "metadata": {},
     "output_type": "execute_result"
    },
    {
     "data": {
      "image/png": "[encoded data removed]",
      "text/plain": [
       "<Figure size 432x288 with 1 Axes>"
      ]
     },
     "metadata": {
      "needs_background": "light"
     },
     "output_type": "display_data"
    }
   ],
   "source": [
    "YY = np.zeros(len(xx))\n",
    "for i in range(len(xx)):\n",
    "    YY[i] = evalSpline(x,y,k2,xx[i])\n",
    "\n",
    "plt.plot(xx,yy,'g')\n",
    "plt.plot(xx,YY,'m')\n",
    "plt.scatter(x,y)\n",
    "plt.legend(('2-a)','2-b)','Data'),loc = 0)"
   ]
  },
  {
   "cell_type": "code",
   "execution_count": 10,
   "id": "presidential-wayne",
   "metadata": {},
   "outputs": [],
   "source": [
    "#3\n",
    "\n",
    "T = np.array([-250,-200,-100,0,100,300],dtype = float)\n",
    "c = np.array([.0163,.318,.699,.870,.941,1.04])\n",
    "\n",
    "def rational(xData, yData, x):\n",
    "    m = len(xData)\n",
    "    r = yData.copy()\n",
    "    rOld = np.zeros(m)\n",
    "    for k in range(m-1):\n",
    "        for i in range(m-k-1):\n",
    "            if abs(x - xData[i+k+1]) < 1.0e-9:\n",
    "                return yData[i+k+1]\n",
    "            else:\n",
    "                c1 = r[i+1] - r[i]\n",
    "                c2 = r[i+1] - rOld[i+1]\n",
    "                c3 = (x - xData[i])/(x - xData[i+k+1])\n",
    "                r[i] = r[i+1] + c1/(c3*(1.0 - c1/c2) - 1.0)\n",
    "                rOld[i+1] = r[i+1]\n",
    "\n",
    "    return r[0]\n",
    "\n",
    "def neville(xData, yData, x):\n",
    "    m = len(xData) # number of data points\n",
    "    y = yData.copy()\n",
    "    for k in range(1, m):\n",
    "        y[0:m-k] = ((x-xData[k:m])*y[0:m-k] + \n",
    "                (xData[0:m-k] - x)*y[1:m-k+1])/(xData[0:m-k] - xData[k:m])\n",
    "\n",
    "    return y[0]"
   ]
  },
  {
   "cell_type": "code",
   "execution_count": 11,
   "id": "mature-rogers",
   "metadata": {},
   "outputs": [
    {
     "data": {
      "text/plain": [
       "<matplotlib.legend.Legend at 0x1402a89b2e0>"
      ]
     },
     "execution_count": 11,
     "metadata": {},
     "output_type": "execute_result"
    },
    {
     "data": {
      "image/png": "[encoded data removed]",
      "text/plain": [
       "<Figure size 432x288 with 1 Axes>"
      ]
     },
     "metadata": {
      "needs_background": "light"
     },
     "output_type": "display_data"
    }
   ],
   "source": [
    "TT = np.linspace(-250,300,400)\n",
    "Cp = np.zeros([2,len(TT)])\n",
    "\n",
    "for i in range(len(TT)):\n",
    "    Cp[0,i] = rational(T,c,TT[i])\n",
    "    Cp[1,i] = neville(T,c,TT[i])\n",
    "\n",
    "plt.plot(TT,Cp[0],'g')\n",
    "plt.plot(TT,Cp[1],'m')\n",
    "plt.scatter(T,c)\n",
    "plt.legend(('rational','neville','Data'),loc = 0)"
   ]
  },
  {
   "cell_type": "code",
   "execution_count": 12,
   "id": "animal-anniversary",
   "metadata": {},
   "outputs": [
    {
     "data": {
      "text/plain": [
       "'\\nAccording to the classical mechanics, at high temperatures,\\nthe heat capacity of an object converges to 3R. (R = gas constant)\\nSince the specific heat is proportional to the heat capacity,\\nthe specific heat also converges to a specific value.\\nPolynomial interpolation never converge \\nsince, it is the sum of finite number of polynomial.\\nOn the contrary, rational interpolation could converge\\nwhen the appropriate coefficient is determined.\\nWith a low number of data, it may not seems obious \\nthat rational interpolation is more accurate.\\nBut, when more data is collected,\\nrational interpolation will give a more accurate prediction.\\n'"
      ]
     },
     "execution_count": 12,
     "metadata": {},
     "output_type": "execute_result"
    }
   ],
   "source": [
    "'''\n",
    "According to the classical mechanics, at high temperatures,\n",
    "the heat capacity of an object converges to 3R. (R = gas constant)\n",
    "Since the specific heat is proportional to the heat capacity,\n",
    "the specific heat also converges to a specific value.\n",
    "Polynomial interpolation never converge \n",
    "since, it is the sum of finite number of polynomial.\n",
    "On the contrary, rational interpolation could converge\n",
    "when the appropriate coefficient is determined.\n",
    "With a low number of data, it may not seems obious \n",
    "that rational interpolation is more accurate.\n",
    "But, when more data is collected,\n",
    "rational interpolation will give a more accurate prediction.\n",
    "'''"
   ]
  }
 ],
 "metadata": {
  "kernelspec": {
   "display_name": "Python 3",
   "language": "python",
   "name": "python3"
  },
  "language_info": {
   "codemirror_mode": {
    "name": "ipython",
    "version": 3
   },
   "file_extension": ".py",
   "mimetype": "text/x-python",
   "name": "python",
   "nbconvert_exporter": "python",
   "pygments_lexer": "ipython3",
   "version": "3.9.2"
  }
 },
 "nbformat": 4,
 "nbformat_minor": 5
}
