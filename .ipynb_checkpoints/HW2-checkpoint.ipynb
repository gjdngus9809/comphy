{
 "cells": [
  {
   "cell_type": "code",
   "execution_count": 1,
   "id": "pending-reminder",
   "metadata": {},
   "outputs": [],
   "source": [
    "import numpy as np"
   ]
  },
  {
   "cell_type": "code",
   "execution_count": 2,
   "id": "undefined-roads",
   "metadata": {},
   "outputs": [
    {
     "name": "stdout",
     "output_type": "stream",
     "text": [
      "[[1. 2. 4.]\n",
      " [0. 2. 2.]\n",
      " [0. 0. 3.]] \n",
      "\n",
      "x =  [ 3.  4. -2.]\n"
     ]
    }
   ],
   "source": [
    "#1\n",
    "\n",
    "AA = np.array([[  1.,  2.,  4.],\n",
    "              [  3.,  8., 14.],\n",
    "              [  2.,  6., 13.]])\n",
    "bb = np.array([ 3., 13., 4.])\n",
    "\n",
    "A = AA.copy()\n",
    "b = bb.copy()\n",
    "\n",
    "lam01 = A[1,0]/A[0,0]\n",
    "A[1,:] = A[1,:] - lam01*A[0,:]\n",
    "b[1]   = b[1]   - lam01*b[0]\n",
    "\n",
    "lam02 = A[2,0]/A[0,0]\n",
    "A[2,:] = A[2,:] - lam02*A[0,:]\n",
    "b[2]   = b[2]   - lam02*b[0]\n",
    "\n",
    "lam12 = A[2,1]/A[1,1]\n",
    "A[2,:] = A[2,:] - lam12*A[1,:]\n",
    "b[2]   = b[2]   - lam12*b[1]\n",
    "\n",
    "print(A,'\\n')\n",
    "\n",
    "n = len(b)\n",
    "x = np.zeros(n)\n",
    "\n",
    "x[2] =  b[2]/A[2,2]\n",
    "x[1] = (b[1] - np.dot(A[1,2:n],x[2:n]))/A[1,1]\n",
    "x[0] = (b[0] - np.dot(A[0,1:n],x[1:n]))/A[0,0]\n",
    "\n",
    "print('x = ',x)"
   ]
  },
  {
   "cell_type": "code",
   "execution_count": 3,
   "id": "infrared-citizen",
   "metadata": {},
   "outputs": [
    {
     "data": {
      "text/plain": [
       "array([ 3.,  4., -2.])"
      ]
     },
     "execution_count": 3,
     "metadata": {},
     "output_type": "execute_result"
    }
   ],
   "source": [
    "np.linalg.solve(AA,bb)"
   ]
  },
  {
   "cell_type": "code",
   "execution_count": 4,
   "id": "capital-trunk",
   "metadata": {},
   "outputs": [
    {
     "name": "stdout",
     "output_type": "stream",
     "text": [
      "[[ 1.   2.   0.  -2.   0. ]\n",
      " [ 0.   1.   0.   2.  -1. ]\n",
      " [ 0.   0.   2.   1.   2. ]\n",
      " [ 0.   0.   0.  -1.   1. ]\n",
      " [ 0.   0.   0.   0.   0.5]] \n",
      "\n",
      "x =  [ 2. -2.  1.  1. -1.]\n"
     ]
    }
   ],
   "source": [
    "#2\n",
    "\n",
    "AA = np.array([[  0.,  0.,  2.,  1.,  2.],\n",
    "               [  0.,  1.,  0.,  2., -1.],\n",
    "               [  1.,  2.,  0., -2.,  0.],\n",
    "               [  0.,  0.,  0., -1.,  1.],\n",
    "               [  0.,  1., -1.,  1., -1.]])\n",
    "bb = np.array([  1.,  1., -4., -2., -1.])\n",
    "\n",
    "A = AA.copy()\n",
    "b = bb.copy()\n",
    "\n",
    "A[0,:] = AA[2,:]\n",
    "b[0]   = bb[2]\n",
    "A[2,:] = AA[0,:]\n",
    "b[2]   = bb[0]\n",
    "\n",
    "lam01 = A[1,0]/A[0,0]\n",
    "A[1,:] = A[1,:] - lam01*A[0,:]\n",
    "b[1]   = b[1]   - lam01*b[0]\n",
    "\n",
    "lam02 = A[2,0]/A[0,0]\n",
    "A[2,:] = A[2,:] - lam02*A[0,:]\n",
    "b[2]   = b[2]   - lam02*b[0]\n",
    "\n",
    "lam03 = A[3,0]/A[0,0]\n",
    "A[3,:] = A[3,:] - lam03*A[0,:]\n",
    "b[3]   = b[3]   - lam03*b[0]\n",
    "\n",
    "lam04 = A[4,0]/A[0,0]\n",
    "A[4,:] = A[4,:] - lam04*A[0,:]\n",
    "b[4]   = b[4]   - lam04*b[0]\n",
    "\n",
    "lam12 = A[2,1]/A[1,1]\n",
    "A[2,:] = A[2,:] - lam12*A[1,:]\n",
    "b[2]   = b[2]   - lam12*b[1]\n",
    "\n",
    "lam13 = A[3,1]/A[1,1]\n",
    "A[3,:] = A[3,:] - lam13*A[1,:]\n",
    "b[3]   = b[3]   - lam13*b[1]\n",
    "\n",
    "lam14 = A[4,1]/A[1,1]\n",
    "A[4,:] = A[4,:] - lam14*A[1,:]\n",
    "b[4]   = b[4]   - lam14*b[1]\n",
    "\n",
    "lam23 = A[3,2]/A[2,2]\n",
    "A[3,:] = A[3,:] - lam23*A[2,:]\n",
    "b[3]   = b[3]   - lam23*b[2]\n",
    "\n",
    "lam24 = A[4,2]/A[2,2]\n",
    "A[4,:] = A[4,:] - lam24*A[2,:]\n",
    "b[4]   = b[4]   - lam24*b[2]\n",
    "\n",
    "lam34 = A[4,3]/A[3,3]\n",
    "A[4,:] = A[4,:] - lam34*A[3,:]\n",
    "b[4]   = b[4]   - lam34*b[3]\n",
    "\n",
    "print(A,'\\n')\n",
    "\n",
    "n = len(b)\n",
    "x = np.zeros(n)\n",
    "\n",
    "x[4] =  b[4]/A[4,4]\n",
    "x[3] = (b[3] - np.dot(A[3,4:n],x[4:n]))/A[3,3]\n",
    "x[2] = (b[2] - np.dot(A[2,3:n],x[3:n]))/A[2,2]\n",
    "x[1] = (b[1] - np.dot(A[1,2:n],x[2:n]))/A[1,1]\n",
    "x[0] = (b[0] - np.dot(A[0,1:n],x[1:n]))/A[0,0]\n",
    "\n",
    "print('x = ',x)"
   ]
  },
  {
   "cell_type": "code",
   "execution_count": 5,
   "id": "unnecessary-atlanta",
   "metadata": {},
   "outputs": [
    {
     "data": {
      "text/plain": [
       "array([ 2., -2.,  1.,  1., -1.])"
      ]
     },
     "execution_count": 5,
     "metadata": {},
     "output_type": "execute_result"
    }
   ],
   "source": [
    "np.linalg.solve(AA,bb)"
   ]
  },
  {
   "cell_type": "code",
   "execution_count": 6,
   "id": "expressed-seventh",
   "metadata": {},
   "outputs": [],
   "source": [
    "#3\n",
    "\n",
    "# Lower triangular\n",
    "def gaussL(aa,bb):\n",
    "    a = aa.copy()\n",
    "    b = bb.copy()\n",
    "    n = len(a)\n",
    "    for k in range(n-1,0,-1):\n",
    "        for i in range(k-1,-1,-1):\n",
    "            if a[i,k] != 0.:\n",
    "                lam = a[i,k]/a[k,k]\n",
    "                a[i,0:k] = a[i,0:k] - lam*a[k,0:k]\n",
    "                b[i]     = b[i]     - lam*b[k]\n",
    "    for j in range(0,n,1):\n",
    "        b[j] = (b[j] - np.dot(a[j,0:j],b[0:j]))/a[j,j]\n",
    "    return b\n",
    "\n",
    "# Upper triangular\n",
    "def gauss(aa,bb):\n",
    "    # Elimination phase\n",
    "    a = aa.copy()\n",
    "    b = bb.copy()\n",
    "    n = len(a)\n",
    "    x = np.zeros(n)\n",
    "    for k in range(0,n-1): # pivot rows k = 0, 1, ...\n",
    "        for i in range(k+1,n): # range i = 1\n",
    "            if a[i,k] != 0.0 :\n",
    "            # print('We are in the loop',i,k)\n",
    "                lam = a[i,k]/a[k,k] # Definion of lambda\n",
    "                a[i,k:n] = a[i,k:n] - lam*a[k,k:n] # a[i,k+1:n] 까지 변경\n",
    "                b[i] = b[i] - lam*b[k]\n",
    "    # Back substitution\n",
    "    for k in range(n-1,-1,-1): # From end to beginning\n",
    "        x[k] = ( b[k] - np.dot(a[k,k+1:n],x[k+1:n]) )/a[k,k] # j = k+1, ..., n\n",
    "    return x"
   ]
  },
  {
   "cell_type": "code",
   "execution_count": 7,
   "id": "distinct-elite",
   "metadata": {},
   "outputs": [
    {
     "name": "stdout",
     "output_type": "stream",
     "text": [
      " [ 0.95557523  0.95511416 -0.6158561   0.06564674] \n",
      " [ 0.95557523  0.95511416 -0.6158561   0.06564674]\n"
     ]
    }
   ],
   "source": [
    "A = np.random.rand(4,5)\n",
    "a = A[0:4,0:4]\n",
    "b = A[:,4]\n",
    "\n",
    "print('',gaussL(a,b),'\\n',gauss(a,b))"
   ]
  },
  {
   "cell_type": "code",
   "execution_count": 8,
   "id": "authorized-procurement",
   "metadata": {},
   "outputs": [],
   "source": [
    "#4\n",
    "\n",
    "def LUsolve(aa,bb):\n",
    "    a = aa.copy()\n",
    "    b = bb.copy()\n",
    "    n = len(a)\n",
    "    for k in range(0,n-1):\n",
    "        for i in range(k+1,n):\n",
    "            if a[i,k] != 0.:\n",
    "                lam = a[i,k]/a[k,k]\n",
    "                a[i,k+1:n] = a[i,k+1:n] - lam*a[k,k+1:n]\n",
    "                a[i,k] = lam\n",
    "    for k in range(0,n,1):\n",
    "        b[k] =  b[k] - np.dot(a[k,0:k],b[0:k])\n",
    "    for k in range(n-1,-1,-1):\n",
    "        b[k] = (b[k] - np.dot(a[k,k+1:n],b[k+1:n]))/a[k,k]\n",
    "    return b\n"
   ]
  },
  {
   "cell_type": "code",
   "execution_count": 11,
   "id": "unauthorized-million",
   "metadata": {},
   "outputs": [
    {
     "name": "stdout",
     "output_type": "stream",
     "text": [
      " [-73.71563135  20.18507995  56.43387385] \n",
      " [-73.71563135  20.18507995  56.43387385]\n"
     ]
    }
   ],
   "source": [
    "A = np.random.rand(3,4)\n",
    "a = A[0:3,0:3]\n",
    "b = A[:,3]\n",
    "\n",
    "print('',LUsolve(a,b),'\\n',np.linalg.solve(a,b))"
   ]
  },
  {
   "cell_type": "code",
   "execution_count": 10,
   "id": "fiscal-reply",
   "metadata": {},
   "outputs": [
    {
     "name": "stdout",
     "output_type": "stream",
     "text": [
      "[ T1, T2, T3, a] =  [-13.32257291 -20.18369097 -24.92986632   5.84502228]\n"
     ]
    }
   ],
   "source": [
    "#5\n",
    "\n",
    "g     =  10. #m/s/s\n",
    "theta =  40.*(np.pi/180)\n",
    "m     =  [10., 4., 5., 6.]\n",
    "u     =  [0.25, 0.3, 0.2]\n",
    "\n",
    "# [ T1, T2, T3, a]\n",
    "\n",
    "A = np.array([[  1.,  0.,  0., m[0]],\n",
    "              [ -1.,  1.,  0., m[1]],\n",
    "              [  0., -1.,  1., m[2]],\n",
    "              [  0.,  0., -1., m[3]]])\n",
    "b = np.array([m[0]*g*(np.sin(theta)-u[0]*np.cos(theta)),\n",
    "              m[1]*g*(np.sin(theta)-u[1]*np.cos(theta)),\n",
    "              m[2]*g*(np.sin(theta)-u[2]*np.cos(theta)),\n",
    "              m[3]*g                                   ])\n",
    "\n",
    "print('[ T1, T2, T3, a] = ',LUsolve(A,b))"
   ]
  },
  {
   "cell_type": "code",
   "execution_count": 19,
   "id": "opening-plaintiff",
   "metadata": {},
   "outputs": [
    {
     "name": "stdout",
     "output_type": "stream",
     "text": [
      "2.7606496810913086\n",
      "2.8663299083709717\n",
      "0.024938344955444336\n"
     ]
    }
   ],
   "source": [
    "import time\n",
    "\n",
    "A = np.random.rand(1000,1001)\n",
    "a = A[0:1000,0:1000]\n",
    "b = A[:,1000]\n",
    "\n",
    "o1 = time.time()\n",
    "X = LUsolve(a,b)\n",
    "f1 = time.time()\n",
    "print(f1-o1)\n",
    "\n",
    "o2 = time.time()\n",
    "Y = gaussL(a,b)\n",
    "f2 = time.time()\n",
    "print(f2-o2)\n",
    "\n",
    "o3 = time.time()\n",
    "Z = np.linalg.solve(a,b)\n",
    "f3 = time.time()\n",
    "print(f3-o3)\n"
   ]
  }
 ],
 "metadata": {
  "kernelspec": {
   "display_name": "Python 3",
   "language": "python",
   "name": "python3"
  },
  "language_info": {
   "codemirror_mode": {
    "name": "ipython",
    "version": 3
   },
   "file_extension": ".py",
   "mimetype": "text/x-python",
   "name": "python",
   "nbconvert_exporter": "python",
   "pygments_lexer": "ipython3",
   "version": "3.9.2"
  }
 },
 "nbformat": 4,
 "nbformat_minor": 5
}
