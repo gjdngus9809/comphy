{
 "cells": [
  {
   "cell_type": "code",
   "execution_count": 1,
   "id": "third-saturday",
   "metadata": {},
   "outputs": [],
   "source": [
    "import numpy as np"
   ]
  },
  {
   "cell_type": "code",
   "execution_count": 2,
   "id": "upper-campbell",
   "metadata": {},
   "outputs": [
    {
     "data": {
      "text/plain": [
       "array([[ 1.66666667, -2.22222222, -1.11111111],\n",
       "       [ 1.25      , -0.83333333, -1.66666667],\n",
       "       [ 0.5       ,  1.        ,  0.        ]])"
      ]
     },
     "execution_count": 2,
     "metadata": {},
     "output_type": "execute_result"
    }
   ],
   "source": [
    "A = np.array([[.6,-.4,1.],\n",
    "              [-.3,.2,.5],\n",
    "              [.6,-1.,.5]])\n",
    "b = np.eye(3)\n",
    "\n",
    "np.linalg.solve(A,b)"
   ]
  },
  {
   "cell_type": "code",
   "execution_count": 3,
   "id": "oriental-express",
   "metadata": {},
   "outputs": [],
   "source": [
    "from ch2 import *"
   ]
  },
  {
   "cell_type": "code",
   "execution_count": 4,
   "id": "charming-lawrence",
   "metadata": {},
   "outputs": [
    {
     "name": "stdout",
     "output_type": "stream",
     "text": [
      "[[ 1.66666667 -2.22222222 -1.11111111]\n",
      " [ 1.25       -0.83333333 -1.66666667]\n",
      " [ 0.5         1.          0.        ]]\n"
     ]
    }
   ],
   "source": [
    "AA = A.copy()\n",
    "LU, seq = LUdecompp(AA)\n",
    "x0 = LUsolvee(LU,b[:,0],seq)\n",
    "x1 = LUsolvee(LU,b[:,1],seq)\n",
    "x2 = LUsolvee(LU,b[:,2],seq)\n",
    "\n",
    "x = np.array([x0,x1,x2]).T\n",
    "print(x)"
   ]
  },
  {
   "cell_type": "code",
   "execution_count": 5,
   "id": "sorted-domain",
   "metadata": {},
   "outputs": [
    {
     "data": {
      "text/plain": [
       "array([[ 1.00000000e+00, -4.44089210e-16, -1.18423789e-16],\n",
       "       [ 0.00000000e+00,  1.00000000e+00,  5.92118946e-17],\n",
       "       [ 0.00000000e+00, -3.33066907e-16,  1.00000000e+00]])"
      ]
     },
     "execution_count": 5,
     "metadata": {},
     "output_type": "execute_result"
    }
   ],
   "source": [
    "A@x"
   ]
  },
  {
   "cell_type": "code",
   "execution_count": 6,
   "id": "wrapped-stopping",
   "metadata": {},
   "outputs": [],
   "source": [
    "def inverse(A):\n",
    "    AA = A.copy()\n",
    "    n = len(AA)\n",
    "    LU, seq = LUdecompp(AA)\n",
    "    x = np.zeros((n,n))\n",
    "\n",
    "    for i in range(0,n):\n",
    "        x[:,i] = LUsolvee(LU,b[:,i],seq)\n",
    "    return x"
   ]
  },
  {
   "cell_type": "code",
   "execution_count": null,
   "id": "narrative-amber",
   "metadata": {},
   "outputs": [],
   "source": []
  },
  {
   "cell_type": "code",
   "execution_count": 7,
   "id": "revised-punishment",
   "metadata": {},
   "outputs": [],
   "source": [
    "n = 6\n",
    "c = - np.ones(n-1)\n",
    "d = 2*np.ones(n)\n",
    "e = - np.ones(n-1)\n",
    "d[n-1] = 5"
   ]
  },
  {
   "cell_type": "code",
   "execution_count": 8,
   "id": "ceramic-american",
   "metadata": {},
   "outputs": [
    {
     "name": "stdout",
     "output_type": "stream",
     "text": [
      "[[0.84 0.68 0.52 0.36 0.2  0.04]\n",
      " [0.68 1.36 1.04 0.72 0.4  0.08]\n",
      " [0.52 1.04 1.56 1.08 0.6  0.12]\n",
      " [0.36 0.72 1.08 1.44 0.8  0.16]\n",
      " [0.2  0.4  0.6  0.8  1.   0.2 ]\n",
      " [0.04 0.08 0.12 0.16 0.2  0.24]]\n"
     ]
    }
   ],
   "source": [
    "cc,dd,ee = c.copy(),d.copy(),e.copy()\n",
    "x = np.zeros((n,n))\n",
    "b = np.eye(n)\n",
    "LUdecomp3(cc,dd,ee)\n",
    "for i in range(0,n):\n",
    "    x[:,i] = LUsolve3(cc,dd,ee,b[:,i])\n",
    "print(x)\n"
   ]
  },
  {
   "cell_type": "code",
   "execution_count": 9,
   "id": "identified-fence",
   "metadata": {},
   "outputs": [
    {
     "data": {
      "text/plain": [
       "array([[ 1.00000000e+00,  0.00000000e+00,  0.00000000e+00,\n",
       "         0.00000000e+00,  0.00000000e+00,  0.00000000e+00],\n",
       "       [ 1.11022302e-16,  1.00000000e+00, -2.22044605e-16,\n",
       "         0.00000000e+00,  0.00000000e+00,  0.00000000e+00],\n",
       "       [-1.66533454e-16, -3.33066907e-16,  1.00000000e+00,\n",
       "         0.00000000e+00,  0.00000000e+00, -2.77555756e-17],\n",
       "       [ 0.00000000e+00,  0.00000000e+00, -1.11022302e-16,\n",
       "         1.00000000e+00,  0.00000000e+00,  0.00000000e+00],\n",
       "       [-6.93889390e-18, -1.38777878e-17,  1.11022302e-16,\n",
       "         1.38777878e-16,  1.00000000e+00,  2.77555756e-17],\n",
       "       [-2.08166817e-17, -4.16333634e-17,  0.00000000e+00,\n",
       "        -2.77555756e-17, -8.32667268e-17,  1.00000000e+00]])"
      ]
     },
     "execution_count": 9,
     "metadata": {},
     "output_type": "execute_result"
    }
   ],
   "source": [
    "A = np.diag(c,k=-1) +np.diag(d)+np.diag(e,k=1)\n",
    "A@x"
   ]
  },
  {
   "cell_type": "code",
   "execution_count": 10,
   "id": "precious-sucking",
   "metadata": {},
   "outputs": [
    {
     "data": {
      "text/plain": [
       "array([3., 1., 1.])"
      ]
     },
     "execution_count": 10,
     "metadata": {},
     "output_type": "execute_result"
    }
   ],
   "source": [
    "A = np.array([[4,-1,1],[-1,4,-2],[1,-2,4]],dtype = float)\n",
    "b = np.array([12,-1,5])\n",
    "x = np.zeros(3)\n",
    "w = 1\n",
    "\n",
    "n = len(A)\n",
    "for j in range(0,12,1):\n",
    "    for i in range(0,n):\n",
    "        x[i] = w/A[i,i]*(b[i] - (np.dot(A[i,0:i],x[0:i])+np.dot(A[i,i+1:n],x[i+1:n]))) + (1-w)*x[i]\n",
    "\n",
    "\n",
    "x"
   ]
  },
  {
   "cell_type": "code",
   "execution_count": 11,
   "id": "outer-necklace",
   "metadata": {},
   "outputs": [
    {
     "data": {
      "text/plain": [
       "array([3.5       , 0.66666667, 0.16666667])"
      ]
     },
     "execution_count": 11,
     "metadata": {},
     "output_type": "execute_result"
    }
   ],
   "source": [
    "A = np.array([[3,-3,3],[-3,5,1],[3,1,5]],dtype = float)\n",
    "b = np.array([9,-7,12])\n",
    "\n",
    "n = len(A)\n",
    "x = np.array([3.5,2/3,1/6],dtype = float)\n",
    "w = 1\n",
    "for j in range(0,30,1):\n",
    "    for i in range(0,n):\n",
    "        x[i] = w/A[i,i]*(b[i] - (np.dot(A[i,:],x[:])-A[i,i]*x[i])) + (1-w)*x[i]\n",
    "x #diverge!"
   ]
  },
  {
   "cell_type": "code",
   "execution_count": 12,
   "id": "stretch-palace",
   "metadata": {},
   "outputs": [],
   "source": [
    "A = np.array([[4,-1,1],[-1,4,-2],[1,-2,4]],dtype = float)\n",
    "b = np.array([12,-1,5])\n",
    "\n",
    "n = len(A)\n",
    "x0 = np.zeros(3)"
   ]
  },
  {
   "cell_type": "code",
   "execution_count": 13,
   "id": "elementary-stone",
   "metadata": {},
   "outputs": [
    {
     "name": "stdout",
     "output_type": "stream",
     "text": [
      "[ 2.41706161 -0.2014218   1.007109  ]\n",
      "[3.07752283 0.79483181 0.71998218]\n",
      "[3. 1. 1.]\n"
     ]
    }
   ],
   "source": [
    "# First iteratiion\n",
    "r0 = b - A@x0  # Residual, 차이\n",
    "s0 = r0.copy() # search direction\n",
    "a0 = r0@s0/(s0@A@s0)\n",
    "\n",
    "# update x\n",
    "x1 = x0 + a0*s0\n",
    "print(x1)\n",
    "\n",
    "# Second iteration\n",
    "r1 = b - A@x1  # new Residual, 차이\n",
    "b0 = - r1@A@s0/(s0@A@s0) # 새로운 탐색방향을 찾는 계수\n",
    "s1 = r1 + b0*s0 # new search direction\n",
    "a1 = r1@s1/(s1@A@s1)\n",
    "x2 = x1 + a1*s1\n",
    "print(x2)\n",
    "\n",
    "# Third iteration\n",
    "r2 = b - A@x2  # Residual, 차이\n",
    "b1 = - r2@A@s1/(s1@A@s1) # 새로운 탐색방향을 찾는 계수\n",
    "s2 = r2 + b1*s1 # new search direction\n",
    "a2 = r2@s2/(s2@A@s2)\n",
    "x3 = x2 + a2*s2\n",
    "print(x3)"
   ]
  },
  {
   "cell_type": "code",
   "execution_count": 14,
   "id": "complex-differential",
   "metadata": {},
   "outputs": [],
   "source": [
    "A = np.array([[3,-3,3],[-3,5,1],[3,1,5]],dtype = float)\n",
    "b = np.array([9,-7,12])\n",
    "\n",
    "n = len(A)\n",
    "x0 = np.zeros(n)"
   ]
  },
  {
   "cell_type": "code",
   "execution_count": 15,
   "id": "optimum-motorcycle",
   "metadata": {},
   "outputs": [
    {
     "name": "stdout",
     "output_type": "stream",
     "text": [
      "[ 1.19361084 -0.92836399  1.59148112]\n",
      "[ 18.34439265   3.8788959  -13.41230235]\n",
      "[3.5        0.66666667 0.16666667]\n"
     ]
    }
   ],
   "source": [
    "# First iteratiion\n",
    "r0 = b - A@x0  # Residual, 차이\n",
    "s0 = r0.copy() # search direction\n",
    "a0 = r0@s0/(s0@A@s0)\n",
    "\n",
    "# update x\n",
    "x1 = x0 + a0*s0\n",
    "print(x1)\n",
    "\n",
    "# Second iteration\n",
    "r1 = b - A@x1  # new Residual, 차이\n",
    "b0 = - r1@A@s0/(s0@A@s0) # 새로운 탐색방향을 찾는 계수\n",
    "s1 = r1 + b0*s0 # new search direction\n",
    "a1 = r1@s1/(s1@A@s1)\n",
    "x2 = x1 + a1*s1\n",
    "print(x2)\n",
    "\n",
    "# Third iteration\n",
    "r2 = b - A@x2  # Residual, 차이\n",
    "b1 = - r2@A@s1/(s1@A@s1) # 새로운 탐색방향을 찾는 계수\n",
    "s2 = r2 + b1*s1 # new search direction\n",
    "a2 = r2@s2/(s2@A@s2)\n",
    "x3 = x2 + a2*s2\n",
    "print(x3)"
   ]
  },
  {
   "cell_type": "code",
   "execution_count": 25,
   "id": "split-jefferson",
   "metadata": {},
   "outputs": [
    {
     "data": {
      "text/plain": [
       "(array([3.5       , 0.66666667, 0.16666667]), 2)"
      ]
     },
     "execution_count": 25,
     "metadata": {},
     "output_type": "execute_result"
    }
   ],
   "source": [
    "tol = 1.0e-15\n",
    "x = np.ones(n)\n",
    "r = b - A@x\n",
    "s = r.copy()\n",
    "for i in range(n):\n",
    "    alpha = r@s/(s@A@s)\n",
    "    x = x + alpha*s\n",
    "    r = b - A@x\n",
    "    if np.sqrt(np.dot(r,r)) < tol:\n",
    "        break\n",
    "    else:\n",
    "        beta = - r@A@s/(s@A@s)\n",
    "        s = r + beta*s\n",
    "\n",
    "x, i"
   ]
  },
  {
   "cell_type": "code",
   "execution_count": 22,
   "id": "reserved-cocktail",
   "metadata": {},
   "outputs": [
    {
     "data": {
      "text/plain": [
       "(array([3.5       , 0.66666667, 0.16666667]), 2)"
      ]
     },
     "execution_count": 22,
     "metadata": {},
     "output_type": "execute_result"
    }
   ],
   "source": [
    "Av = lambda x: A@x\n",
    "\n",
    "x = np.zeros(3)\n",
    "conjGrad(Av,x,b)"
   ]
  },
  {
   "cell_type": "code",
   "execution_count": null,
   "id": "unlikely-printing",
   "metadata": {},
   "outputs": [],
   "source": []
  }
 ],
 "metadata": {
  "kernelspec": {
   "display_name": "Python 3",
   "language": "python",
   "name": "python3"
  },
  "language_info": {
   "codemirror_mode": {
    "name": "ipython",
    "version": 3
   },
   "file_extension": ".py",
   "mimetype": "text/x-python",
   "name": "python",
   "nbconvert_exporter": "python",
   "pygments_lexer": "ipython3",
   "version": "3.9.2"
  }
 },
 "nbformat": 4,
 "nbformat_minor": 5
}
