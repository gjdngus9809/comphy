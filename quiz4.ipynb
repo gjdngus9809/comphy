{
 "cells": [
  {
   "cell_type": "code",
   "execution_count": 1,
   "id": "female-tactics",
   "metadata": {},
   "outputs": [],
   "source": [
    "import numpy as np"
   ]
  },
  {
   "cell_type": "code",
   "execution_count": 2,
   "id": "derived-billion",
   "metadata": {},
   "outputs": [
    {
     "name": "stdout",
     "output_type": "stream",
     "text": [
      "-28\n"
     ]
    }
   ],
   "source": [
    "#1.\n",
    "# f = x**4 - 4*x + 1\n",
    "\n",
    "#1-1\n",
    "def f(x):\n",
    "    return x**4 - 4*x + 1\n",
    "def fp(x):\n",
    "    return 4*x**3 - 4\n",
    "\n",
    "x0 = 2\n",
    "\n",
    "'''\n",
    "fp(xs) = 0 ,thus\n",
    "r = fp(xs) - fp(x0) = - fp(x0)\n",
    "'''\n",
    "r = - fp(x0)\n",
    "print(r)"
   ]
  },
  {
   "cell_type": "code",
   "execution_count": 3,
   "id": "boxed-probe",
   "metadata": {},
   "outputs": [
    {
     "name": "stdout",
     "output_type": "stream",
     "text": [
      "[1/28, 5/56 - sqrt(3)*I/56, 5/56 + sqrt(3)*I/56]\n",
      "1/28\n"
     ]
    }
   ],
   "source": [
    "#1-2\n",
    "\n",
    "'''\n",
    "x1 = x0 + a*r\n",
    "suppose that, fp(xs) - fp(x1) = - fp(x1) = 0\n",
    "'''\n",
    "from sympy import Symbol, solve\n",
    "a = Symbol('a')\n",
    "a = solve(fp(x0 + a*r))\n",
    "print(a) # since a is real, a = 1/28\n",
    "a = a[0]\n",
    "print(a)"
   ]
  },
  {
   "cell_type": "code",
   "execution_count": 4,
   "id": "widespread-commercial",
   "metadata": {},
   "outputs": [
    {
     "name": "stdout",
     "output_type": "stream",
     "text": [
      "1 0\n"
     ]
    },
    {
     "data": {
      "text/plain": [
       "'\\nsince fp(x1) = 0, x1 is the minimum point(x1 = xs).\\nthere is only one search direction in 1d space.\\nso, When you find the appropriate value of a, you can find xs at once.\\n'"
      ]
     },
     "execution_count": 4,
     "metadata": {},
     "output_type": "execute_result"
    }
   ],
   "source": [
    "x1 = x0 + a*r\n",
    "print(x1, fp(x1))\n",
    "'''\n",
    "since fp(x1) = 0, x1 is the minimum point(x1 = xs).\n",
    "there is only one search direction in 1d space.\n",
    "so, When you find the appropriate value of a, you can find xs at once.\n",
    "''' "
   ]
  },
  {
   "cell_type": "code",
   "execution_count": 5,
   "id": "fluid-shark",
   "metadata": {},
   "outputs": [
    {
     "name": "stdout",
     "output_type": "stream",
     "text": [
      "[-5. -6.] [-5. -6.] 0.14841849148418493 0.02737374275548931 [-0.99270073  0.82725061] [-1.12956944  0.66300815] [0.25790754 1.10948905] [-0.28571429  1.42857143]\n"
     ]
    }
   ],
   "source": [
    "#2\n",
    "A = np.array([[3,2],[2,6]],dtype = float)\n",
    "b = np.array([2,8],dtype = float)\n",
    "x0= np.array([1,2],dtype = float)\n",
    "\n",
    "r0 = b - A@x0\n",
    "s0 = r0.copy()\n",
    "a0 = s0@r0/(s0@A@s0)\n",
    "x1 = x0 + a0*s0\n",
    "r1 = b - A@x1\n",
    "b0 = - r1@A@s0/(s0@A@s0)\n",
    "s1 = r1 + b0*s0\n",
    "a1 = s1@r1/(s1@A@s1)\n",
    "x2 = x1 + a1*s1\n",
    "\n",
    "print(r0,s0,a0,b0,r1,s1,x1,x2)"
   ]
  },
  {
   "cell_type": "code",
   "execution_count": 6,
   "id": "ethical-puppy",
   "metadata": {},
   "outputs": [],
   "source": [
    "#3\n",
    "def conjgrad(A,x,b,tol=1e-9):\n",
    "    n = len(b)\n",
    "    r = b - A@x\n",
    "    s = r.copy()\n",
    "    for i in range(n):\n",
    "        u = A@s\n",
    "        alpha = np.dot(s,r)/np.dot(s,u)\n",
    "        x = x + alpha*s\n",
    "        r = b - A@x\n",
    "        if (np.sqrt(np.dot(r,r))) < tol:\n",
    "            break\n",
    "        else:\n",
    "            beta = -np.dot(r,u)/np.dot(s,u)\n",
    "            s = r + beta*s\n",
    "    return x\n",
    "#  r  /  alpha*s  /  b  /  x  /  beta  "
   ]
  },
  {
   "cell_type": "code",
   "execution_count": 7,
   "id": "technological-chemistry",
   "metadata": {},
   "outputs": [
    {
     "data": {
      "text/plain": [
       "array([-0.28571429,  1.42857143])"
      ]
     },
     "execution_count": 7,
     "metadata": {},
     "output_type": "execute_result"
    }
   ],
   "source": [
    "conjgrad(A,x0,b)"
   ]
  }
 ],
 "metadata": {
  "kernelspec": {
   "display_name": "Python 3",
   "language": "python",
   "name": "python3"
  },
  "language_info": {
   "codemirror_mode": {
    "name": "ipython",
    "version": 3
   },
   "file_extension": ".py",
   "mimetype": "text/x-python",
   "name": "python",
   "nbconvert_exporter": "python",
   "pygments_lexer": "ipython3",
   "version": "3.9.2"
  }
 },
 "nbformat": 4,
 "nbformat_minor": 5
}
