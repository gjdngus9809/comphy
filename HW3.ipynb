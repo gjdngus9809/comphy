{
 "cells": [
  {
   "cell_type": "code",
   "execution_count": 1,
   "id": "fitted-wallpaper",
   "metadata": {},
   "outputs": [],
   "source": [
    "import numpy as np"
   ]
  },
  {
   "cell_type": "code",
   "execution_count": 2,
   "id": "executed-belarus",
   "metadata": {},
   "outputs": [],
   "source": [
    "#1.\n",
    "\n",
    "def LUdecomp(aa):\n",
    "    a = aa.copy()\n",
    "    n = len(a)\n",
    "    for k in range(0,n-1):\n",
    "        for i in range(k+1,n):\n",
    "            if a[i,k] != 0:\n",
    "                lam = a[i,k]/a[k,k]\n",
    "                a[i,k+1:n] = a[i,k+1:n] - lam*a[k,k+1:n]\n",
    "                a[i,k] = lam\n",
    "    return a\n",
    "\n",
    "\n",
    "\n",
    "def LUsolve(aa,bb):\n",
    "    a = aa.copy()\n",
    "    b = bb.copy()\n",
    "    n = len(a)\n",
    "    for k in range(0,n):\n",
    "        b[k] = b[k] - np.dot(a[k,0:k],b[0:k])\n",
    "    for k in range(n-1,-1,-1):\n",
    "        b[k] = (b[k] - np.dot(a[k,k+1:n],b[k+1:n]))/a[k,k]\n",
    "    return b\n"
   ]
  },
  {
   "cell_type": "code",
   "execution_count": 3,
   "id": "other-revelation",
   "metadata": {},
   "outputs": [],
   "source": [
    "A = np.array([[  6,  2,  0,  0,  0],\n",
    "              [ -1,  7,  2,  0,  0],\n",
    "              [  0, -2,  8,  2,  0],\n",
    "              [  0,  0,  3,  7, -2],\n",
    "              [  0,  0,  0,  3,  5]], dtype = float)\n",
    "b1= np.array([  1,  0,  0,  0,  0], dtype = float)\n",
    "b2= np.array([  0,  1,  0,  0,  0], dtype = float)\n",
    "b3= np.array([  0,  0,  1,  0,  0], dtype = float)\n",
    "b4= np.array([  0,  0,  0,  1,  0], dtype = float)\n",
    "b5= np.array([  0,  0,  0,  0,  1], dtype = float)"
   ]
  },
  {
   "cell_type": "code",
   "execution_count": 4,
   "id": "available-nerve",
   "metadata": {},
   "outputs": [],
   "source": [
    "LU = LUdecomp(A)"
   ]
  },
  {
   "cell_type": "code",
   "execution_count": 5,
   "id": "olympic-reference",
   "metadata": {},
   "outputs": [
    {
     "name": "stdout",
     "output_type": "stream",
     "text": [
      "[[ 0.15961975 -0.0422815   0.01163451 -0.00283768 -0.00113507]\n",
      " [ 0.02114075  0.12684449 -0.03490352  0.00851305  0.00340522]\n",
      " [ 0.00581725  0.03490352  0.12797957 -0.03121453 -0.01248581]\n",
      " [-0.00212826 -0.01276958 -0.04682179  0.13337117  0.05334847]\n",
      " [ 0.00127696  0.00766175  0.02809308 -0.0800227   0.16799092]]\n",
      "[[ 0.15961975 -0.0422815   0.01163451 -0.00283768 -0.00113507]\n",
      " [ 0.02114075  0.12684449 -0.03490352  0.00851305  0.00340522]\n",
      " [ 0.00581725  0.03490352  0.12797957 -0.03121453 -0.01248581]\n",
      " [-0.00212826 -0.01276958 -0.04682179  0.13337117  0.05334847]\n",
      " [ 0.00127696  0.00766175  0.02809308 -0.0800227   0.16799092]]\n"
     ]
    }
   ],
   "source": [
    "x1 = LUsolve(LU,b1)\n",
    "x2 = LUsolve(LU,b2)\n",
    "x3 = LUsolve(LU,b3)\n",
    "x4 = LUsolve(LU,b4)\n",
    "x5 = LUsolve(LU,b5)\n",
    "\n",
    "print(np.array([x1,x2,x3,x4,x5]).T)\n",
    "print(np.linalg.inv(A))\n",
    "# These two results are equal."
   ]
  },
  {
   "cell_type": "code",
   "execution_count": 6,
   "id": "southeast-remedy",
   "metadata": {},
   "outputs": [],
   "source": [
    "#2.\n",
    "\n",
    "def LUdecomp3(cc,dd,ee):\n",
    "    c = cc.copy()\n",
    "    d = dd.copy()\n",
    "    e = ee.copy()\n",
    "    n = len(d)\n",
    "    for k in range(1,n):\n",
    "        lam = c[k-1]/d[k-1]\n",
    "        d[k] = d[k] - lam*e[k-1]\n",
    "        c[k-1] = lam\n",
    "    return c,d,e\n",
    "\n",
    "def LUsolve3(cc,dd,ee,bb):\n",
    "    c, d, e, b = cc.copy(), dd.copy(), ee.copy(), bb.copy()\n",
    "    n = len(d)\n",
    "    for k in range(1,n):\n",
    "        b[k] = b[k] - c[k-1]*b[k-1]\n",
    "    b[n-1] = b[n-1]/d[n-1]\n",
    "    for k in range(n-2,-1,-1):\n",
    "        b[k] = (b[k] - e[k]*b[k+1])/d[k]\n",
    "    return b\n"
   ]
  },
  {
   "cell_type": "code",
   "execution_count": 7,
   "id": "necessary-project",
   "metadata": {},
   "outputs": [],
   "source": [
    "def maketridiag(n):\n",
    "    c = np.ones(n-1)*(-1)\n",
    "    d = np.ones(n)*4\n",
    "    e = np.ones(n-1)*(-1)\n",
    "    b = np.zeros(n)\n",
    "    b[0] = 9\n",
    "    b[1:n] = 5\n",
    "    A = np.diag(c,k=-1) + np.diag(d) + np.diag(e,k=1)\n",
    "    return [c,d,e,A,b]\n"
   ]
  },
  {
   "cell_type": "code",
   "execution_count": 8,
   "id": "english-humor",
   "metadata": {},
   "outputs": [],
   "source": [
    "P = maketridiag(8)\n",
    "Q = maketridiag(10)\n",
    "R = maketridiag(12)"
   ]
  },
  {
   "cell_type": "code",
   "execution_count": 9,
   "id": "radical-envelope",
   "metadata": {},
   "outputs": [
    {
     "name": "stdout",
     "output_type": "stream",
     "text": [
      "n = 8 :  [2.90186213 2.60744851 2.52793193 2.5042792  2.48918486 2.45246023\n",
      " 2.32065606 1.83016402]\n",
      "n = 10 :  [2.90191936 2.60767745 2.52879042 2.50748425 2.50114659 2.4971021\n",
      " 2.48726181 2.45194513 2.3205187  1.83012968]\n",
      "n = 12 :  [2.90192347 2.60769388 2.52885206 2.50771437 2.5020054  2.50030723\n",
      " 2.49922351 2.49658681 2.48712374 2.45190814 2.32050884 1.83012721]\n"
     ]
    }
   ],
   "source": [
    "c,d,e = LUdecomp3(P[0],P[1],P[2])\n",
    "print('n = 8 : ',LUsolve3(c,d,e,P[4]))\n",
    "\n",
    "c,d,e = LUdecomp3(Q[0],Q[1],Q[2])\n",
    "print('n = 10 : ',LUsolve3(c,d,e,Q[4]))\n",
    "\n",
    "c,d,e = LUdecomp3(R[0],R[1],R[2])\n",
    "print('n = 12 : ',LUsolve3(c,d,e,R[4]))"
   ]
  },
  {
   "cell_type": "code",
   "execution_count": 10,
   "id": "weird-supervision",
   "metadata": {},
   "outputs": [
    {
     "name": "stdout",
     "output_type": "stream",
     "text": [
      "Doolittle -  4.953749656677246 , tridiagonal -  0.01302647590637207\n"
     ]
    }
   ],
   "source": [
    "from time import time\n",
    "\n",
    "S = maketridiag(5000)\n",
    "\n",
    "s1 = time()\n",
    "LU = LUdecomp(S[3])\n",
    "x1 = LUsolve(LU,S[4])\n",
    "f1 = time()\n",
    "t1 = f1-s1\n",
    "\n",
    "s2 = time()\n",
    "c,d,e = LUdecomp3(S[0],S[1],S[2])\n",
    "x2 = LUsolve3(c,d,e,S[4])\n",
    "f2 = time()\n",
    "t2 = f2-s2\n",
    "\n",
    "print('Doolittle - ',t1, ', tridiagonal - ',t2)"
   ]
  },
  {
   "cell_type": "code",
   "execution_count": 11,
   "id": "continued-restriction",
   "metadata": {},
   "outputs": [
    {
     "data": {
      "text/plain": [
       "[<matplotlib.lines.Line2D at 0x2140dd11a30>]"
      ]
     },
     "execution_count": 11,
     "metadata": {},
     "output_type": "execute_result"
    },
    {
     "data": {
      "image/png": "[encoded data removed]",
      "text/plain": [
       "<Figure size 432x288 with 1 Axes>"
      ]
     },
     "metadata": {
      "needs_background": "light"
     },
     "output_type": "display_data"
    }
   ],
   "source": [
    "#3\n",
    "\n",
    "import matplotlib.pyplot as plt\n",
    "k = 2.5 #N/m\n",
    "W = np.ones(5)\n",
    "K = np.array([[  2, -1,  0,  0,  0],\n",
    "              [ -1,  4, -1,  0,  0],\n",
    "              [  0, -1,  4, -1, -2],\n",
    "              [  0,  0, -1,  2, -1],\n",
    "              [  0,  0, -2, -1,  3]], dtype = float)\n",
    "def X(n):\n",
    "    return np.linalg.solve(K,n*W/k)\n",
    "n = np.array([1,2,3,4,5])\n",
    "plt.xlim(0.5,5.5)\n",
    "plt.grid(True)\n",
    "plt.plot(n,X(1)[n-1],'rs')\n",
    "plt.plot(n,X(2)[n-1],'b*')\n",
    "plt.plot(n,X(3)[n-1],'go')\n",
    "plt.plot(n,X(4)[n-1],'y.')\n",
    "plt.plot(n,X(5)[n-1],'m^')"
   ]
  }
 ],
 "metadata": {
  "kernelspec": {
   "display_name": "Python 3",
   "language": "python",
   "name": "python3"
  },
  "language_info": {
   "codemirror_mode": {
    "name": "ipython",
    "version": 3
   },
   "file_extension": ".py",
   "mimetype": "text/x-python",
   "name": "python",
   "nbconvert_exporter": "python",
   "pygments_lexer": "ipython3",
   "version": "3.9.2"
  }
 },
 "nbformat": 4,
 "nbformat_minor": 5
}
