{
 "cells": [
  {
   "cell_type": "code",
   "execution_count": 1,
   "id": "adjustable-edmonton",
   "metadata": {},
   "outputs": [
    {
     "data": {
      "text/plain": [
       "array([[ 1.45283019, -1.45283019],\n",
       "       [-1.56603774,  3.56603774],\n",
       "       [ 0.01886792,  0.98113208]])"
      ]
     },
     "execution_count": 1,
     "metadata": {},
     "output_type": "execute_result"
    }
   ],
   "source": [
    "from ch2 import *\n",
    "from scipy.linalg import *\n",
    "import numpy as np\n",
    "\n",
    "Amat = np.array([[3.,-1.,4.],\n",
    "              [2.,0.,5.],\n",
    "              [7.,2.,-2.]])\n",
    "\n",
    "bmat = np.array([[ 6.0,  3.0,  7.0],\n",
    "              [-4.0,  2.0, -5.0]])\n",
    "\n",
    "A = Amat.copy()\n",
    "b = bmat.copy()\n",
    "\n",
    "np.linalg.solve(A,b.T)"
   ]
  },
  {
   "cell_type": "code",
   "execution_count": 2,
   "id": "artistic-craft",
   "metadata": {},
   "outputs": [
    {
     "name": "stdout",
     "output_type": "stream",
     "text": [
      "[[  3.          -1.           4.        ]\n",
      " [  0.66666667   0.66666667   2.33333333]\n",
      " [  2.33333333   6.5        -26.5       ]] \n",
      " [[1.         0.         0.        ]\n",
      " [0.66666667 1.         0.        ]\n",
      " [2.33333333 6.5        1.        ]] \n",
      " [[  3.          -1.           4.        ]\n",
      " [  0.           0.66666667   2.33333333]\n",
      " [  0.           0.         -26.5       ]]\n"
     ]
    }
   ],
   "source": [
    "A = Amat.copy()\n",
    "b = bmat.copy()\n",
    "\n",
    "A = LUdecomp(A)\n",
    "L = np.eye(3)\n",
    "L[1,0] = A[1,0]\n",
    "L[2,0] = A[2,0]\n",
    "L[2,1] = A[2,1]\n",
    "U = A - L + np.eye(3)\n",
    "\n",
    "print(A,'\\n',L,'\\n',U)"
   ]
  },
  {
   "cell_type": "code",
   "execution_count": 3,
   "id": "assumed-attempt",
   "metadata": {},
   "outputs": [
    {
     "data": {
      "text/plain": [
       "array([[ 3., -1.,  4.],\n",
       "       [ 2.,  0.,  5.],\n",
       "       [ 7.,  2., -2.]])"
      ]
     },
     "execution_count": 3,
     "metadata": {},
     "output_type": "execute_result"
    }
   ],
   "source": [
    "L@U"
   ]
  },
  {
   "cell_type": "code",
   "execution_count": 4,
   "id": "protective-sustainability",
   "metadata": {},
   "outputs": [
    {
     "data": {
      "text/plain": [
       "array([0.        , 0.        , 0.47169811])"
      ]
     },
     "execution_count": 4,
     "metadata": {},
     "output_type": "execute_result"
    }
   ],
   "source": [
    "b = np.array([6.,3.,7.])\n",
    "n = len(b)\n",
    "y = np.zeros(n)\n",
    "x = np.zeros(n)\n",
    "\n",
    "for k in range(1,n):\n",
    "    y[k] = (b[k] - np.dot(L[k,0:k],y[0:k]))/L[k,k]\n",
    "\n",
    "for j in range(n-1,-1,-1):\n",
    "    x[k] = (y[k] - np.dot(U[k,k+1:n],x[k+1:n]))/U[k,k]\n",
    "    \n",
    "np.linalg.solve(Amat,b)\n",
    "x"
   ]
  },
  {
   "cell_type": "code",
   "execution_count": null,
   "id": "assured-label",
   "metadata": {},
   "outputs": [],
   "source": [
    "A = LUdecomp(A)\n",
    "for i in range(len(b)):\n",
    "    x = LUsolve(A,b[i,:])\n",
    "    print('x', i+1,' = ', x)"
   ]
  },
  {
   "cell_type": "code",
   "execution_count": 5,
   "id": "natural-format",
   "metadata": {},
   "outputs": [
    {
     "data": {
      "text/plain": [
       "array([[ 1.,  4.,  1.],\n",
       "       [ 1.,  6., -1.],\n",
       "       [ 2., -1.,  2.]])"
      ]
     },
     "execution_count": 5,
     "metadata": {},
     "output_type": "execute_result"
    }
   ],
   "source": [
    "AA = np.array([[1.,4.,1.],\n",
    "              [1.,6.,-1.],\n",
    "              [2.,-1.,2.]])\n",
    "bb = np.array([7.,13.,5.])\n",
    "\n",
    "A = AA.copy()\n",
    "b = bb.copy()\n",
    "\n",
    "L10 = A[1,0]/A[0,0]\n",
    "A[1,:] = A[1,:] - L10*A[0,:]\n",
    "\n",
    "L20 = A[2,0]/A[0,0]\n",
    "A[2,:] = A[2,:] - L20*A[0,:]\n",
    "\n",
    "L21 = A[2,1]/A[1,1]\n",
    "A[2,:] = A[2,:] - L21*A[1,:]\n",
    "\n",
    "L = np.eye(len(A))\n",
    "\n",
    "L[1,0] = L10\n",
    "L[2,0] = L20\n",
    "L[2,1] = L21\n",
    "\n",
    "U = A\n",
    "\n",
    "L@U"
   ]
  },
  {
   "cell_type": "code",
   "execution_count": 6,
   "id": "ignored-chapter",
   "metadata": {},
   "outputs": [
    {
     "data": {
      "text/plain": [
       "array([ 5.,  1., -2.])"
      ]
     },
     "execution_count": 6,
     "metadata": {},
     "output_type": "execute_result"
    }
   ],
   "source": [
    "n = len(b)\n",
    "x = np.zeros(n)\n",
    "y = np.zeros(n)\n",
    "\n",
    "for k in range(0,n):\n",
    "    y[k] = b[k] - np.dot(L[k,0:k],y[0:k])\n",
    "for k in range(n-1,-1,-1):\n",
    "    x[k] = (y[k] - np.dot(U[k,k+1:n],x[k+1:n]))/U[k,k]\n",
    "x"
   ]
  },
  {
   "cell_type": "code",
   "execution_count": 7,
   "id": "czech-tiffany",
   "metadata": {},
   "outputs": [
    {
     "data": {
      "text/plain": [
       "array([ 5.,  1., -2.])"
      ]
     },
     "execution_count": 7,
     "metadata": {},
     "output_type": "execute_result"
    }
   ],
   "source": [
    "np.linalg.solve(AA,bb)"
   ]
  },
  {
   "cell_type": "code",
   "execution_count": 26,
   "id": "digital-treat",
   "metadata": {},
   "outputs": [
    {
     "data": {
      "text/plain": [
       "array([2.30769231, 0.34615385, 0.13461538, 0.76923077])"
      ]
     },
     "execution_count": 26,
     "metadata": {},
     "output_type": "execute_result"
    }
   ],
   "source": [
    "'''\n",
    "  T            +m3*a3 = F2\n",
    " 2T      +m2*a2       = F1\n",
    "-3T+m1*a1             = 0\n",
    "     -3a1+  2a2+   a3 = 0\n",
    "'''\n",
    "m1 = 20.\n",
    "m2 = 40.\n",
    "m3 = 10.\n",
    "F1 = 10.\n",
    "F2 = 10.\n",
    "\n",
    "\n",
    "aa = np.array([[   1.,   0.,   0.,   m3],\n",
    "               [  -3.,   m1,   0.,   0.],\n",
    "               [   2.,   0.,   m2,   0.],\n",
    "               [   0.,  -3.,   2.,   1.]])\n",
    "f = np.array([F2,0,F1,0])\n",
    "\n",
    "a = aa.copy()\n",
    "\n",
    "L10 = a[1,0]/a[0,0]\n",
    "a[1,:] = a[1,:] - L10*a[0,:]\n",
    "\n",
    "L20 = a[2,0]/a[0,0]\n",
    "a[2,:] = a[2,:] - L20*a[0,:]\n",
    "\n",
    "L30 = a[3,0]/a[0,0]\n",
    "a[3,:] = a[3,:] - L30*a[0,:]\n",
    "\n",
    "L21 = a[2,1]/a[1,1]\n",
    "a[2,:] = a[2,:] - L21*a[1,:]\n",
    "\n",
    "L31 = a[3,1]/a[1,1]\n",
    "a[3,:] = a[3,:] - L31*a[1,:]\n",
    "\n",
    "L32 = a[3,2]/a[2,2]\n",
    "a[3,:] = a[3,:] - L32*a[2,:]\n",
    "\n",
    "L = np.eye(len(a))\n",
    "\n",
    "L[1,0] = L10\n",
    "L[2,0] = L20\n",
    "L[3,0] = L30\n",
    "L[2,1] = L21\n",
    "L[3,1] = L31\n",
    "L[3,2] = L32\n",
    "\n",
    "U = a\n",
    "\n",
    "\n",
    "n = len(f)\n",
    "x = np.zeros(n)\n",
    "y = np.zeros(n)\n",
    "\n",
    "for k in range(0,n):\n",
    "    y[k] = f[k] - np.dot(L[k,0:k],y[0:k])\n",
    "for k in range(n-1,-1,-1):\n",
    "    x[k] = (y[k] - np.dot(U[k,k+1:n],x[k+1:n]))/U[k,k]\n",
    "x"
   ]
  }
 ],
 "metadata": {
  "kernelspec": {
   "display_name": "Python 3",
   "language": "python",
   "name": "python3"
  },
  "language_info": {
   "codemirror_mode": {
    "name": "ipython",
    "version": 3
   },
   "file_extension": ".py",
   "mimetype": "text/x-python",
   "name": "python",
   "nbconvert_exporter": "python",
   "pygments_lexer": "ipython3",
   "version": "3.9.2"
  }
 },
 "nbformat": 4,
 "nbformat_minor": 5
}
