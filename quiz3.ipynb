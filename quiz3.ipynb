{
 "cells": [
  {
   "cell_type": "code",
   "execution_count": 1,
   "id": "informed-windsor",
   "metadata": {},
   "outputs": [],
   "source": [
    "import numpy as np"
   ]
  },
  {
   "cell_type": "code",
   "execution_count": 28,
   "id": "agreed-invitation",
   "metadata": {},
   "outputs": [],
   "source": [
    "#1.\n",
    "\n",
    "#1-1\n",
    "'''\n",
    "x(n+1) - x(n) = 0.1\n",
    "\n",
    "y1 - y0 = b1 * 0.1\n",
    "y2 - y1 = b2 * 0.1\n",
    "y3 - y2 = b3 * 0.1\n",
    "'''\n",
    "#1-2\n",
    "A = (np.eye(100) - np.eye(100,k=-1))/0.1\n",
    "\n",
    "b = np.zeros(100)\n",
    "for i in range(0,100):\n",
    "    b[i] = 4*(0.1)*(i)\n",
    "# b = np.arrange(100)*0.4\n",
    "b[0] = 10"
   ]
  },
  {
   "cell_type": "code",
   "execution_count": 29,
   "id": "sitting-leone",
   "metadata": {},
   "outputs": [],
   "source": [
    "#1-3\n",
    "n = len(A)\n",
    "y = np.zeros(n)\n",
    "y[0] = b[0]\n",
    "for i in range(1,n,1):\n",
    "    y[i] = (b[i] - np.dot(A[i,0:i],y[0:i]))/A[i,i]"
   ]
  },
  {
   "cell_type": "code",
   "execution_count": 30,
   "id": "collaborative-situation",
   "metadata": {},
   "outputs": [
    {
     "data": {
      "text/plain": [
       "[<matplotlib.lines.Line2D at 0x25f47414850>]"
      ]
     },
     "execution_count": 30,
     "metadata": {},
     "output_type": "execute_result"
    },
    {
     "data": {
      "image/png": "[encoded data removed]",
      "text/plain": [
       "<Figure size 432x288 with 1 Axes>"
      ]
     },
     "metadata": {
      "needs_background": "light"
     },
     "output_type": "display_data"
    }
   ],
   "source": [
    "import matplotlib.pyplot as plt\n",
    "x = np.linspace(0,10,100)\n",
    "plt.plot(x,y)\n",
    "plt.plot(x,2*x**2+10,'r')"
   ]
  },
  {
   "cell_type": "code",
   "execution_count": null,
   "id": "super-anime",
   "metadata": {},
   "outputs": [],
   "source": [
    "#1-4\n",
    "A"
   ]
  },
  {
   "cell_type": "code",
   "execution_count": 5,
   "id": "dominant-cancellation",
   "metadata": {},
   "outputs": [],
   "source": [
    "#2\n",
    "\n",
    "#2-1\n",
    "'''\n",
    "about C:\n",
    "  y1       = 6*y3\n",
    "about O:\n",
    "2*y1 +  y2 = 6*y3 + 2*y4\n",
    "about H:\n",
    "      2*y2 =12*y3\n",
    "'''\n",
    "\n",
    "#2-2\n",
    "'''\n",
    "y3 = 1\n",
    "[y1, y2, y4]\n",
    "'''\n",
    "AA = np.array([[1, 0, 0],\n",
    "               [0, 2, 0],\n",
    "               [2, 1, -2]], dtype = float)\n",
    "b = np.array([6,12,6], dtype = float)\n"
   ]
  },
  {
   "cell_type": "code",
   "execution_count": 6,
   "id": "constitutional-animation",
   "metadata": {},
   "outputs": [],
   "source": [
    "#2-3\n",
    "A = AA.copy()\n",
    "L10 = A[1,0]/A[0,0]\n",
    "A[1,:] = A[1,:] - L10*A[0,:]\n",
    "A[1,0] = L10\n",
    "\n",
    "L20 = A[2,0]/A[0,0]\n",
    "A[2,:] = A[2,:] - L20*A[0,:]\n",
    "A[2,0] = L20\n",
    "\n",
    "L21 = A[2,1]/A[1,1]\n",
    "A[2,:] = A[2,:] - L21*A[1,:]\n",
    "A[2,1] = L21\n",
    "\n",
    "b1 = np.array([1,0,0], dtype = float)\n",
    "b2 = np.array([0,1,0], dtype = float)\n",
    "b3 = np.array([0,0,1], dtype = float)\n",
    "\n"
   ]
  },
  {
   "cell_type": "code",
   "execution_count": 7,
   "id": "perceived-consensus",
   "metadata": {},
   "outputs": [],
   "source": [
    "def LUsolve(A,b):\n",
    "    n = len(A)\n",
    "    y = np.zeros(n)\n",
    "    x = np.zeros(n)\n",
    "    for k in range(0,n):\n",
    "        y[k] = b[k] - np.dot(A[k,0:k],y[0:k])\n",
    "    for k in range(n-1,-1,-1):\n",
    "        x[k] = (y[k] - np.dot(A[k,k+1:n],x[k+1:n]))/A[k,k]\n",
    "    return x"
   ]
  },
  {
   "cell_type": "code",
   "execution_count": 8,
   "id": "combined-rough",
   "metadata": {},
   "outputs": [
    {
     "name": "stdout",
     "output_type": "stream",
     "text": [
      "[[ 1.    0.    0.  ]\n",
      " [ 0.    0.5   0.  ]\n",
      " [ 1.    0.25 -0.5 ]]\n"
     ]
    }
   ],
   "source": [
    "x1 = LUsolve(A,b1)\n",
    "x2 = LUsolve(A,b2)\n",
    "x3 = LUsolve(A,b3)\n",
    "x = np.array([x1,x2,x3])\n",
    "print(x.T)"
   ]
  },
  {
   "cell_type": "code",
   "execution_count": 9,
   "id": "decimal-cleaning",
   "metadata": {},
   "outputs": [
    {
     "data": {
      "text/plain": [
       "array([6., 6., 6.])"
      ]
     },
     "execution_count": 9,
     "metadata": {},
     "output_type": "execute_result"
    }
   ],
   "source": [
    "#2-4\n",
    "\n",
    "x.T@(b)"
   ]
  },
  {
   "cell_type": "code",
   "execution_count": 10,
   "id": "caroline-corps",
   "metadata": {},
   "outputs": [
    {
     "data": {
      "text/plain": [
       "array([7.2, 7.2, 7.2])"
      ]
     },
     "execution_count": 10,
     "metadata": {},
     "output_type": "execute_result"
    }
   ],
   "source": [
    "x.T@(b*1.2)"
   ]
  },
  {
   "cell_type": "code",
   "execution_count": 11,
   "id": "japanese-census",
   "metadata": {},
   "outputs": [
    {
     "data": {
      "text/plain": [
       "array([8.4, 8.4, 8.4])"
      ]
     },
     "execution_count": 11,
     "metadata": {},
     "output_type": "execute_result"
    }
   ],
   "source": [
    "x.T@(b*1.4)"
   ]
  },
  {
   "cell_type": "code",
   "execution_count": 12,
   "id": "incorporate-newman",
   "metadata": {},
   "outputs": [
    {
     "data": {
      "text/plain": [
       "array([9.6, 9.6, 9.6])"
      ]
     },
     "execution_count": 12,
     "metadata": {},
     "output_type": "execute_result"
    }
   ],
   "source": [
    "x.T@(b*1.6)"
   ]
  },
  {
   "cell_type": "code",
   "execution_count": 13,
   "id": "exact-perry",
   "metadata": {},
   "outputs": [
    {
     "data": {
      "text/plain": [
       "array([10.8, 10.8, 10.8])"
      ]
     },
     "execution_count": 13,
     "metadata": {},
     "output_type": "execute_result"
    }
   ],
   "source": [
    "x.T@(b*1.8)"
   ]
  },
  {
   "cell_type": "code",
   "execution_count": 14,
   "id": "demonstrated-measurement",
   "metadata": {},
   "outputs": [
    {
     "data": {
      "text/plain": [
       "array([12., 12., 12.])"
      ]
     },
     "execution_count": 14,
     "metadata": {},
     "output_type": "execute_result"
    }
   ],
   "source": [
    "x.T@(b*2.0)"
   ]
  }
 ],
 "metadata": {
  "kernelspec": {
   "display_name": "Python 3",
   "language": "python",
   "name": "python3"
  },
  "language_info": {
   "codemirror_mode": {
    "name": "ipython",
    "version": 3
   },
   "file_extension": ".py",
   "mimetype": "text/x-python",
   "name": "python",
   "nbconvert_exporter": "python",
   "pygments_lexer": "ipython3",
   "version": "3.9.2"
  }
 },
 "nbformat": 4,
 "nbformat_minor": 5
}
