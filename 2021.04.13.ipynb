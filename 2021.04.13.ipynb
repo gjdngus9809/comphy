{
 "cells": [
  {
   "cell_type": "code",
   "execution_count": 11,
   "id": "leading-bruce",
   "metadata": {},
   "outputs": [],
   "source": [
    "import numpy as np\n",
    "import matplotlib.pyplot as plt\n",
    "from scipy.interpolate import UnivariateSpline"
   ]
  },
  {
   "cell_type": "code",
   "execution_count": 23,
   "id": "addressed-renewal",
   "metadata": {},
   "outputs": [
    {
     "data": {
      "text/plain": [
       "array([[-1.2 ,  0.3 ,  1.1 ],\n",
       "       [-5.76, -5.61, -3.69]])"
      ]
     },
     "execution_count": 23,
     "metadata": {},
     "output_type": "execute_result"
    }
   ],
   "source": [
    "data = np.genfromtxt('datafolder/3.1_1.dat',delimiter = ',')\n",
    "data"
   ]
  },
  {
   "cell_type": "code",
   "execution_count": 28,
   "id": "armed-uniform",
   "metadata": {},
   "outputs": [
    {
     "data": {
      "text/plain": [
       "poly1d([ 0.79731051, -5.07315403])"
      ]
     },
     "execution_count": 28,
     "metadata": {},
     "output_type": "execute_result"
    }
   ],
   "source": [
    "coef = np.polyfit(data[0],data[1],1)\n",
    "ffun = np.poly1d(coef)\n",
    "ffun"
   ]
  },
  {
   "cell_type": "code",
   "execution_count": 25,
   "id": "static-factory",
   "metadata": {},
   "outputs": [],
   "source": [
    "n = len(data[0])\n",
    "x = data[0]\n",
    "y = data[1]\n",
    "xb = sum(x)/n\n",
    "yb = sum(y)/n # np.mean\n",
    "s1, s2 = 0,0\n",
    "for i in range(0,n):\n",
    "    s1 = s1+ y[i]*(x[i]-xb)\n",
    "    s2 = s2+ x[i]*(x[i]-xb)\n",
    "b = s1/s2\n",
    "a = yb - xb*b"
   ]
  },
  {
   "cell_type": "code",
   "execution_count": 30,
   "id": "sound-decade",
   "metadata": {},
   "outputs": [
    {
     "data": {
      "text/plain": [
       "(0.7973105134474328, -5.073154034229829)"
      ]
     },
     "execution_count": 30,
     "metadata": {},
     "output_type": "execute_result"
    }
   ],
   "source": [
    "b,a"
   ]
  },
  {
   "cell_type": "code",
   "execution_count": 33,
   "id": "satellite-flood",
   "metadata": {},
   "outputs": [
    {
     "data": {
      "text/plain": [
       "0.797310513447433"
      ]
     },
     "execution_count": 33,
     "metadata": {},
     "output_type": "execute_result"
    }
   ],
   "source": [
    "s1 = np.dot(x,y) - xb*sum(y)\n",
    "s2 = np.dot(x,x) - xb*sum(x)\n",
    "s1/s2"
   ]
  },
  {
   "cell_type": "code",
   "execution_count": 50,
   "id": "norwegian-aside",
   "metadata": {},
   "outputs": [
    {
     "name": "stdout",
     "output_type": "stream",
     "text": [
      " x    yInterp   yExact\n",
      "-----------------------\n",
      "0.0   4.80003   4.80000\n",
      "0.5   4.78518   4.78520\n",
      "1.0   4.74088   4.74090\n",
      "1.5   4.66736   4.66738\n",
      "2.0   4.56507   4.56507\n",
      "2.5   4.43462   4.43462\n",
      "3.0   4.27683   4.27683\n",
      "3.5   4.09267   4.09267\n",
      "4.0   3.88327   3.88328\n",
      "4.5   3.64994   3.64995\n",
      "5.0   3.39411   3.39411\n",
      "5.5   3.11735   3.11735\n",
      "6.0   2.82137   2.82137\n",
      "6.5   2.50799   2.50799\n",
      "7.0   2.17915   2.17915\n",
      "7.5   1.83687   1.83688\n",
      "8.0   1.48329   1.48328\n"
     ]
    }
   ],
   "source": [
    "#!/usr/bin/python\n",
    "## example3_4\n",
    "import math\n",
    "#from newtonPoly import *\n",
    "\n",
    "def coeffts(xData,yData):\n",
    "    m = len(xData)  # Number of data points\n",
    "    a = yData.copy()\n",
    "    for k in range(1,m):\n",
    "        a[k:m] = (a[k:m] - a[k-1])/(xData[k:m] - xData[k-1])\n",
    "    return a\n",
    "def evalPoly(a,xData,x):\n",
    "    n = len(xData) - 1  # Degree of polynomial\n",
    "    p = a[n]\n",
    "    for k in range(1,n+1):\n",
    "        p = a[n-k] + (x -xData[n-k])*p\n",
    "    return p\n",
    "\n",
    "xData = np.array([0.15,2.3,3.15,4.85,6.25,7.95])\n",
    "yData = np.array([4.79867,4.49013,4.2243,3.47313,2.66674,1.51909])\n",
    "a = coeffts(xData,yData)\n",
    "print(\" x    yInterp   yExact\")\n",
    "print(\"-----------------------\")\n",
    "for x in np.arange(0.0,8.1,0.5):\n",
    "    y = evalPoly(a,xData,x)\n",
    "    yExact = 4.8*math.cos(math.pi*x/20.0)\n",
    "    print('{:3.1f} {:9.5f} {:9.5f}'.format(x,y,yExact))\n",
    "#input(\"\\nPress return to exit\")\n",
    "\n"
   ]
  },
  {
   "cell_type": "code",
   "execution_count": 40,
   "id": "going-episode",
   "metadata": {},
   "outputs": [
    {
     "name": "stdout",
     "output_type": "stream",
     "text": [
      " x    yInterp\n",
      "-------------\n",
      "0.0  -6.00000\n",
      "0.5  -5.25000\n",
      "1.0  -4.00000\n",
      "1.5  -2.25000\n",
      "2.0   0.00000\n",
      "2.5   2.75000\n",
      "3.0   6.00000\n",
      "3.5   9.75000\n",
      "4.0  14.00000\n",
      "4.5  18.75000\n",
      "5.0  24.00000\n",
      "5.5  29.75000\n",
      "6.0  36.00000\n",
      "6.5  42.75000\n",
      "7.0  50.00000\n",
      "7.5  57.75000\n",
      "8.0  66.00000\n"
     ]
    }
   ],
   "source": [
    "a = coeffts(data[0],data[1])\n",
    "print(\" x    yInterp\")\n",
    "print(\"-------------\")\n",
    "for x in np.arange(0.0,8.1,0.5):\n",
    "    y = evalPoly(a,data[0],x)\n",
    "    print('{:3.1f} {:9.5f}'.format(x,y))"
   ]
  },
  {
   "cell_type": "code",
   "execution_count": 75,
   "id": "architectural-rachel",
   "metadata": {},
   "outputs": [],
   "source": [
    "data1 = np.genfromtxt('datafolder/3.1_14.dat',delimiter = ',')\n",
    "data2 = np.genfromtxt('datafolder/3.1_16.dat',delimiter = ',')"
   ]
  },
  {
   "cell_type": "code",
   "execution_count": 77,
   "id": "split-short",
   "metadata": {},
   "outputs": [
    {
     "data": {
      "text/plain": [
       "3.7387650293115353"
      ]
     },
     "execution_count": 77,
     "metadata": {},
     "output_type": "execute_result"
    }
   ],
   "source": [
    "def rational(xData, yData, x):\n",
    "    m = len(xData)\n",
    "    r = yData.copy()\n",
    "    rOld = np.zeros(m)\n",
    "    for k in range(m-1):\n",
    "        for i in range(m-k-1):\n",
    "            if abs(x - xData[i+k+1]) < 1.0e-9:\n",
    "                return yData[i+k+1]\n",
    "            else:\n",
    "                c1 = r[i+1] - r[i]\n",
    "                c2 = r[i+1] - rOld[i+1]\n",
    "                c3 = (x - xData[i])/(x - xData[i+k+1])\n",
    "                r[i] = r[i+1] + c1/(c3*(1.0 - c1/c2) - 1.0)\n",
    "                rOld[i+1] = r[i+1]\n",
    "\n",
    "    return r[0]\n"
   ]
  },
  {
   "cell_type": "code",
   "execution_count": 76,
   "id": "underlying-geometry",
   "metadata": {},
   "outputs": [
    {
     "ename": "IndentationError",
     "evalue": "expected an indented block (<ipython-input-76-9c5472492a34>, line 7)",
     "output_type": "error",
     "traceback": [
      "\u001b[1;36m  File \u001b[1;32m\"<ipython-input-76-9c5472492a34>\"\u001b[1;36m, line \u001b[1;32m7\u001b[0m\n\u001b[1;33m    for i in range(len(data[0])):\u001b[0m\n\u001b[1;37m                                 ^\u001b[0m\n\u001b[1;31mIndentationError\u001b[0m\u001b[1;31m:\u001b[0m expected an indented block\n"
     ]
    }
   ],
   "source": [
    "\n",
    "xdata1 = data1[0]\n",
    "ydata1 = data1[1]\n",
    "\n",
    "x = np.linspace(xdata1[0],xdata1[-1],40)\n",
    "y = np.zeros(len(x))\n",
    "\n",
    "n = len(xdata1)\n",
    "\n",
    "\n",
    "for i in range(1,n): rati\n",
    "    "
   ]
  },
  {
   "cell_type": "code",
   "execution_count": 8,
   "id": "illegal-digit",
   "metadata": {},
   "outputs": [],
   "source": [
    "import import_ipynb\n",
    "from chap3 import rational"
   ]
  },
  {
   "cell_type": "code",
   "execution_count": 1,
   "id": "developmental-breakfast",
   "metadata": {},
   "outputs": [
    {
     "ename": "NameError",
     "evalue": "name 'rational' is not defined",
     "output_type": "error",
     "traceback": [
      "\u001b[1;31m---------------------------------------------------------------------------\u001b[0m",
      "\u001b[1;31mNameError\u001b[0m                                 Traceback (most recent call last)",
      "\u001b[1;32m<ipython-input-1-3a9c8f755584>\u001b[0m in \u001b[0;36m<module>\u001b[1;34m\u001b[0m\n\u001b[1;32m----> 1\u001b[1;33m \u001b[0mrational\u001b[0m\u001b[1;33m(\u001b[0m\u001b[1;33m)\u001b[0m\u001b[1;33m\u001b[0m\u001b[1;33m\u001b[0m\u001b[0m\n\u001b[0m",
      "\u001b[1;31mNameError\u001b[0m: name 'rational' is not defined"
     ]
    }
   ],
   "source": []
  },
  {
   "cell_type": "code",
   "execution_count": 7,
   "id": "personal-castle",
   "metadata": {},
   "outputs": [],
   "source": [
    "from scipy.optimize import root_scalar\n",
    "# root_scalar(f, args=(), method=None, bracket=None)\n",
    "\n",
    "import numpy as np\n",
    "\n",
    "def f(x):\n",
    "    return x/2 - np.sin(x)"
   ]
  },
  {
   "cell_type": "code",
   "execution_count": 13,
   "id": "rational-enemy",
   "metadata": {},
   "outputs": [
    {
     "data": {
      "text/plain": [
       "      converged: True\n",
       "           flag: 'converged'\n",
       " function_calls: 16\n",
       "     iterations: 7\n",
       "           root: 1.8954942670349817"
      ]
     },
     "execution_count": 13,
     "metadata": {},
     "output_type": "execute_result"
    }
   ],
   "source": [
    "root_scalar(f,method = 'ridder',bracket=[0.1,np.pi])"
   ]
  },
  {
   "cell_type": "code",
   "execution_count": 21,
   "id": "photographic-evans",
   "metadata": {},
   "outputs": [
    {
     "data": {
      "image/png": "[encoded data removed]",
      "text/plain": [
       "<Figure size 432x288 with 1 Axes>"
      ]
     },
     "metadata": {
      "needs_background": "light"
     },
     "output_type": "display_data"
    }
   ],
   "source": [
    "def f1(x):\n",
    "    return x*np.sin(x)+3*np.cos(x)-x\n",
    "import matplotlib.pyplot as plt\n",
    "\n",
    "x = np.linspace(-6,6,100)\n",
    "plt.plot(x,f1(x))\n",
    "plt.grid(True)"
   ]
  },
  {
   "cell_type": "code",
   "execution_count": 23,
   "id": "reliable-aspect",
   "metadata": {},
   "outputs": [
    {
     "data": {
      "text/plain": [
       "      converged: True\n",
       "           flag: 'converged'\n",
       " function_calls: 14\n",
       "     iterations: 6\n",
       "           root: -4.712388980385645"
      ]
     },
     "execution_count": 23,
     "metadata": {},
     "output_type": "execute_result"
    }
   ],
   "source": [
    "root_scalar(f1,method = 'ridder',bracket=[-6,-4])"
   ]
  },
  {
   "cell_type": "code",
   "execution_count": 24,
   "id": "shared-tackle",
   "metadata": {},
   "outputs": [
    {
     "data": {
      "text/plain": [
       "      converged: True\n",
       "           flag: 'converged'\n",
       " function_calls: 14\n",
       "     iterations: 6\n",
       "           root: -3.208838731979485"
      ]
     },
     "execution_count": 24,
     "metadata": {},
     "output_type": "execute_result"
    }
   ],
   "source": [
    "root_scalar(f1,method = 'ridder',bracket=[-4,-2])"
   ]
  },
  {
   "cell_type": "code",
   "execution_count": 26,
   "id": "automatic-pavilion",
   "metadata": {},
   "outputs": [
    {
     "data": {
      "text/plain": [
       "      converged: True\n",
       "           flag: 'converged'\n",
       " function_calls: 14\n",
       "     iterations: 6\n",
       "           root: 1.5707963267938965"
      ]
     },
     "execution_count": 26,
     "metadata": {},
     "output_type": "execute_result"
    }
   ],
   "source": [
    "root_scalar(f1,method = 'ridder',bracket=[0,2])"
   ]
  },
  {
   "cell_type": "code",
   "execution_count": 56,
   "id": "interesting-village",
   "metadata": {},
   "outputs": [
    {
     "data": {
      "text/plain": [
       "      converged: True\n",
       "           flag: 'converged'\n",
       " function_calls: 12\n",
       "     iterations: 11\n",
       "           root: 0.004634177945497258"
      ]
     },
     "execution_count": 56,
     "metadata": {},
     "output_type": "execute_result"
    }
   ],
   "source": [
    "def fh(lam):\n",
    "    h = 15.0\n",
    "    L = 160.0\n",
    "    return (np.cosh(lam*L/2) - 1)/lam - h\n",
    "\n",
    "root_scalar(fh,method = 'brentq',bracket=[1e-15,1])"
   ]
  },
  {
   "cell_type": "code",
   "execution_count": 58,
   "id": "shaped-column",
   "metadata": {},
   "outputs": [
    {
     "data": {
      "text/plain": [
       "163.69044029950194"
      ]
     },
     "execution_count": 58,
     "metadata": {},
     "output_type": "execute_result"
    }
   ],
   "source": [
    "lam = 0.004634177944589386\n",
    "\n",
    "s = 2/lam*np.sinh(lam*160/2)\n",
    "s"
   ]
  },
  {
   "cell_type": "code",
   "execution_count": 70,
   "id": "further-drink",
   "metadata": {},
   "outputs": [
    {
     "data": {
      "text/plain": [
       "      converged: True\n",
       "           flag: 'converged'\n",
       " function_calls: 6\n",
       "     iterations: 5\n",
       "           root: 163.6904403009581"
      ]
     },
     "execution_count": 70,
     "metadata": {},
     "output_type": "execute_result"
    },
    {
     "data": {
      "image/png": "[encoded data removed]",
      "text/plain": [
       "<Figure size 432x288 with 1 Axes>"
      ]
     },
     "metadata": {
      "needs_background": "light"
     },
     "output_type": "display_data"
    }
   ],
   "source": [
    "def f2(s):\n",
    "    h = 15.\n",
    "    L = 160.\n",
    "    lam = 8*h/(s**2-4*h**2)\n",
    "    return 2*np.sinh(lam*L/2)/lam - s\n",
    "x = np.linspace(150,165,100)\n",
    "plt.plot(x,f2(x))\n",
    "plt.grid(True)\n",
    "root_scalar(f2,method = 'brentq',bracket=[160,165])"
   ]
  }
 ],
 "metadata": {
  "kernelspec": {
   "display_name": "Python 3",
   "language": "python",
   "name": "python3"
  },
  "language_info": {
   "codemirror_mode": {
    "name": "ipython",
    "version": 3
   },
   "file_extension": ".py",
   "mimetype": "text/x-python",
   "name": "python",
   "nbconvert_exporter": "python",
   "pygments_lexer": "ipython3",
   "version": "3.9.2"
  }
 },
 "nbformat": 4,
 "nbformat_minor": 5
}
