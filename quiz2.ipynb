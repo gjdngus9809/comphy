{
 "cells": [
  {
   "cell_type": "code",
   "execution_count": 1,
   "id": "choice-hunter",
   "metadata": {},
   "outputs": [],
   "source": [
    "import numpy as np"
   ]
  },
  {
   "cell_type": "code",
   "execution_count": 2,
   "id": "noticed-sheep",
   "metadata": {},
   "outputs": [],
   "source": [
    "#1.\n",
    "\n",
    "def backwardsub(A,b):\n",
    "    n = len(b)\n",
    "    for k in range(n-1,-1,-1):\n",
    "        b[k] = (b[k] - np.dot(A[k,k+1:n],b[k+1:n]))/A[k,k]\n",
    "    return b\n",
    "# ( -1 /  k  / k+1:n)"
   ]
  },
  {
   "cell_type": "code",
   "execution_count": 5,
   "id": "refined-remains",
   "metadata": {},
   "outputs": [
    {
     "name": "stdout",
     "output_type": "stream",
     "text": [
      "[ 1.  1.  2.  3.  5.  8. 13. 21. 34. 55.]\n"
     ]
    }
   ],
   "source": [
    "#2.\n",
    "\n",
    "#2-1\n",
    "\n",
    "'''\n",
    "x1                     = 1\n",
    "x1 - x2                = 0\n",
    "x1 + x2 - x3           = 0\n",
    "     x2 + x3 - x4      = 0\n",
    "          x3 + x4 - x5 = 0\n",
    "'''\n",
    "\n",
    "#2-2\n",
    "'''\n",
    "A = np.array([[  1,  0,  0,  0,  0],\n",
    "              [  1, -1,  0,  0,  0],\n",
    "              [  1,  1, -1,  0,  0],\n",
    "              [  0,  1,  1, -1,  0],\n",
    "              [  0,  0,  1,  1, -1]], dtype = float)\n",
    "b = np.array([1,0,0,0,0], dtype = float)\n",
    "'''\n",
    "A = np.eye(10) - np.eye(10,k=-1) - np.eye(10,k=-2)\n",
    "b = np.zeros(10)\n",
    "b[0] = 1\n",
    "\n",
    "#2-3\n",
    "\n",
    "def forwardsub(A,bb):\n",
    "    b = bb.copy()\n",
    "    n = len(b)\n",
    "    for k in range(0,n,1):\n",
    "        b[k] = (b[k] - np.dot(A[k,0:k],b[0:k]))/A[k,k]\n",
    "    return b\n",
    "\n",
    "x = forwardsub(A,b)\n",
    "print(x)"
   ]
  },
  {
   "cell_type": "code",
   "execution_count": 4,
   "id": "peaceful-iraqi",
   "metadata": {},
   "outputs": [
    {
     "name": "stdout",
     "output_type": "stream",
     "text": [
      "[[0.95 0.02]\n",
      " [0.05 0.98]]\n",
      "the populattion of A in 2018 =  335440\n",
      "the populattion of B in 2018 =  204555\n"
     ]
    }
   ],
   "source": [
    "#3\n",
    "\n",
    "'''\n",
    "A(n+1) = (95/100)*A(n) +  (2/100)*B(n)\n",
    "B(n+1) =  (5/100)*A(n) + (98/100)*B(n) \n",
    "A(2021) = 300000\n",
    "B(2021) = 240000\n",
    "'''\n",
    "#3-1\n",
    "\n",
    "A = np.array([[95/100, 2/100],\n",
    "              [ 5/100,98/100]])\n",
    "\n",
    "#3-2\n",
    "L = np.eye(2)\n",
    "\n",
    "L10 = A[1,0]/A[0,0]\n",
    "A[1,:] = A[1,:] - L10*A[0,:]\n",
    "A[1,0] = 0\n",
    "L[1,0] = L10\n",
    "\n",
    "print(L@A)\n",
    "\n",
    "#3-3\n",
    "\n",
    "b0 = np.array([300000,240000], dtype = int) # the number of population is an integer.\n",
    "\n",
    "b1 = backwardsub(A,forwardsub(L,b0))\n",
    "b2 = backwardsub(A,forwardsub(L,b1))\n",
    "b3 = backwardsub(A,forwardsub(L,b2))\n",
    "\n",
    "print('the populattion of A in 2018 = ',b3[0])\n",
    "print('the populattion of B in 2018 = ',b3[1])"
   ]
  }
 ],
 "metadata": {
  "kernelspec": {
   "display_name": "Python 3",
   "language": "python",
   "name": "python3"
  },
  "language_info": {
   "codemirror_mode": {
    "name": "ipython",
    "version": 3
   },
   "file_extension": ".py",
   "mimetype": "text/x-python",
   "name": "python",
   "nbconvert_exporter": "python",
   "pygments_lexer": "ipython3",
   "version": "3.9.2"
  }
 },
 "nbformat": 4,
 "nbformat_minor": 5
}
