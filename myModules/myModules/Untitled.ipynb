{
 "cells": [
  {
   "cell_type": "code",
   "execution_count": 1,
   "metadata": {},
   "outputs": [
    {
     "data": {
      "text/plain": [
       "['',\n",
       " '/Users/srivanij/anaconda3/lib/python36.zip',\n",
       " '/Users/srivanij/anaconda3/lib/python3.6',\n",
       " '/Users/srivanij/anaconda3/lib/python3.6/lib-dynload',\n",
       " '/Users/srivanij/anaconda3/lib/python3.6/site-packages',\n",
       " '/Users/srivanij/anaconda3/lib/python3.6/site-packages/aeosa',\n",
       " '/Users/srivanij/anaconda3/lib/python3.6/site-packages/IPython/extensions',\n",
       " '/Users/srivanij/.ipython']"
      ]
     },
     "execution_count": 1,
     "metadata": {},
     "output_type": "execute_result"
    }
   ],
   "source": [
    "import sys\n",
    "\n",
    "sys.path"
   ]
  },
  {
   "cell_type": "code",
   "execution_count": 2,
   "metadata": {},
   "outputs": [
    {
     "data": {
      "text/plain": [
       "['',\n",
       " '/Users/srivanij/anaconda3/lib/python36.zip',\n",
       " '/Users/srivanij/anaconda3/lib/python3.6',\n",
       " '/Users/srivanij/anaconda3/lib/python3.6/lib-dynload',\n",
       " '/Users/srivanij/anaconda3/lib/python3.6/site-packages',\n",
       " '/Users/srivanij/anaconda3/lib/python3.6/site-packages/aeosa',\n",
       " '/Users/srivanij/anaconda3/lib/python3.6/site-packages/IPython/extensions',\n",
       " '/Users/srivanij/.ipython',\n",
       " '/Users/srivanij/Dropbox/younju_srivani/Comphys2020/ModulePractice/myModules']"
      ]
     },
     "execution_count": 2,
     "metadata": {},
     "output_type": "execute_result"
    }
   ],
   "source": [
    "sys.path.append('/Users/srivanij/Dropbox/younju_srivani/Comphys2020/ModulePractice/myModules')\n",
    "sys.path"
   ]
  },
  {
   "cell_type": "code",
   "execution_count": 3,
   "metadata": {},
   "outputs": [],
   "source": [
    "from polyFit import *\n",
    "from gaussPivot import *\n",
    "from polyFit import *\n",
    "from plotPoly import *"
   ]
  },
  {
   "cell_type": "code",
   "execution_count": null,
   "metadata": {},
   "outputs": [],
   "source": []
  }
 ],
 "metadata": {
  "kernelspec": {
   "display_name": "Python 3",
   "language": "python",
   "name": "python3"
  },
  "language_info": {
   "codemirror_mode": {
    "name": "ipython",
    "version": 3
   },
   "file_extension": ".py",
   "mimetype": "text/x-python",
   "name": "python",
   "nbconvert_exporter": "python",
   "pygments_lexer": "ipython3",
   "version": "3.6.4"
  }
 },
 "nbformat": 4,
 "nbformat_minor": 2
}
