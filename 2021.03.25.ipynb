{
 "cells": [
  {
   "cell_type": "code",
   "execution_count": 1,
   "id": "hired-omaha",
   "metadata": {},
   "outputs": [],
   "source": [
    "import numpy as np\n",
    "import scipy as sp\n"
   ]
  },
  {
   "cell_type": "code",
   "execution_count": 2,
   "id": "configured-stephen",
   "metadata": {},
   "outputs": [],
   "source": [
    "from ch2 import *"
   ]
  },
  {
   "cell_type": "code",
   "execution_count": null,
   "id": "trained-republican",
   "metadata": {},
   "outputs": [],
   "source": [
    "#대칭행렬일 때\n",
    "#5중대각행렬\n",
    "#pivoting"
   ]
  },
  {
   "cell_type": "code",
   "execution_count": 12,
   "id": "alpha-directory",
   "metadata": {},
   "outputs": [
    {
     "data": {
      "text/plain": [
       "array([[ 3., -3.,  3.],\n",
       "       [-3.,  5.,  1.],\n",
       "       [ 3.,  1., 10.]])"
      ]
     },
     "execution_count": 12,
     "metadata": {},
     "output_type": "execute_result"
    }
   ],
   "source": [
    "A = np.array([[3,-3,3],\n",
    "              [-3,5,1],\n",
    "              [3,1,10]],dtype = float)\n",
    "n = len(A)\n",
    "L = np.eye(n)\n",
    "\n",
    "L10 = A[1,0]/A[0,0]\n",
    "A[1,:] = A[1,:] - A[0,:]*L10\n",
    "L[1,0] = L10\n",
    "\n",
    "L20 = A[2,0]/A[0,0]\n",
    "A[2,:] = A[2,:] - A[0,:]*L20\n",
    "L[2,0] = L20\n",
    "\n",
    "L21 = A[2,1]/A[1,1]\n",
    "A[2,:] = A[2,:] - A[1,:]*L21\n",
    "L[2,1] = L21\n",
    "\n",
    "U = A\n",
    "for k in range(n-2,-1,-1):\n",
    "    A[k,k+1:n] = A[k,k+1:n]/A[k,k]\n",
    "D = A - L.T + np.eye(n)\n",
    "\n",
    "L@D@L.T"
   ]
  },
  {
   "cell_type": "code",
   "execution_count": null,
   "id": "worthy-video",
   "metadata": {},
   "outputs": [],
   "source": []
  }
 ],
 "metadata": {
  "kernelspec": {
   "display_name": "Python 3",
   "language": "python",
   "name": "python3"
  },
  "language_info": {
   "codemirror_mode": {
    "name": "ipython",
    "version": 3
   },
   "file_extension": ".py",
   "mimetype": "text/x-python",
   "name": "python",
   "nbconvert_exporter": "python",
   "pygments_lexer": "ipython3",
   "version": "3.9.2"
  }
 },
 "nbformat": 4,
 "nbformat_minor": 5
}
